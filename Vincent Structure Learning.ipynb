{
  "nbformat": 4,
  "nbformat_minor": 0,
  "metadata": {
    "colab": {
      "provenance": []
    },
    "kernelspec": {
      "name": "python3",
      "display_name": "Python 3"
    },
    "language_info": {
      "name": "python"
    }
  },
  "cells": [
    {
      "cell_type": "code",
      "source": [
        "# !pip install igraph\n",
        "# !pip install cairocffi"
      ],
      "metadata": {
        "id": "iaE6Qh2sSSNl"
      },
      "execution_count": null,
      "outputs": []
    },
    {
      "cell_type": "markdown",
      "source": [
        "NOTEARS implementation description"
      ],
      "metadata": {
        "id": "UPXG66jpZaOR"
      }
    },
    {
      "cell_type": "markdown",
      "source": [
        "Method for finding DAG structure learnign for linear models, by solving the optimization problem via a poximal quasi newton method (C.F algorithm 1 in the NOTEARS paper)"
      ],
      "metadata": {
        "id": "iKBxVFiOQSdj"
      }
    },
    {
      "cell_type": "code",
      "execution_count": null,
      "metadata": {
        "id": "xmWhTcyrFKnw"
      },
      "outputs": [],
      "source": [
        "import numpy as np\n",
        "import scipy.linalg as slin\n",
        "import scipy.optimize as sopt\n",
        "from scipy.special import expit as sigmoid\n",
        "\n",
        "\n",
        "def notears_linear(X, lambda1, loss_type, max_iter=100, h_tol=1e-8, rho_max=1e+16, w_threshold=0.3):\n",
        "    \"\"\"Solve min_W L(W; X) + lambda1 ‖W‖_1 s.t. h(W) = 0 using augmented Lagrangian.\n",
        "\n",
        "    Args:\n",
        "        X (np.ndarray): [n, d] sample matrix\n",
        "        lambda1 (float): l1 penalty parameter\n",
        "        loss_type (str): l2, logistic, poisson\n",
        "        max_iter (int): max num of dual ascent steps\n",
        "        h_tol (float): exit if |h(w_est)| <= htol\n",
        "        rho_max (float): exit if rho >= rho_max\n",
        "        w_threshold (float): drop edge if |weight| < threshold\n",
        "\n",
        "    Returns:\n",
        "        W_est (np.ndarray): [d, d] estimated DAG\n",
        "    \"\"\"\n",
        "    def _loss(W):\n",
        "        \"\"\"Evaluate value and gradient of loss.\"\"\"\n",
        "        M = X @ W\n",
        "        if loss_type == 'l2':\n",
        "            R = X - M\n",
        "            loss = 0.5 / X.shape[0] * (R ** 2).sum()\n",
        "            G_loss = - 1.0 / X.shape[0] * X.T @ R\n",
        "        elif loss_type == 'logistic':\n",
        "            loss = 1.0 / X.shape[0] * (np.logaddexp(0, M) - X * M).sum()\n",
        "            G_loss = 1.0 / X.shape[0] * X.T @ (sigmoid(M) - X)\n",
        "        elif loss_type == 'poisson':\n",
        "            S = np.exp(M)\n",
        "            loss = 1.0 / X.shape[0] * (S - X * M).sum()\n",
        "            G_loss = 1.0 / X.shape[0] * X.T @ (S - X)\n",
        "        else:\n",
        "            raise ValueError('unknown loss type')\n",
        "        return loss, G_loss\n",
        "\n",
        "    def _h(W):\n",
        "        \"\"\"Evaluate value and gradient of acyclicity constraint.\"\"\"\n",
        "        E = slin.expm(W * W)  # (Zheng et al. 2018)\n",
        "        h = np.trace(E) - d\n",
        "        #     # A different formulation, slightly faster at the cost of numerical stability\n",
        "        #     M = np.eye(d) + W * W / d  # (Yu et al. 2019)\n",
        "        #     E = np.linalg.matrix_power(M, d - 1)\n",
        "        #     h = (E.T * M).sum() - d\n",
        "        G_h = E.T * W * 2\n",
        "        return h, G_h\n",
        "\n",
        "    def _adj(w):\n",
        "        \"\"\"Convert doubled variables ([2 d^2] array) back to original variables ([d, d] matrix).\"\"\"\n",
        "        return (w[:d * d] - w[d * d:]).reshape([d, d])\n",
        "\n",
        "    def _func(w):\n",
        "        \"\"\"Evaluate value and gradient of augmented Lagrangian for doubled variables ([2 d^2] array).\"\"\"\n",
        "        W = _adj(w)\n",
        "        loss, G_loss = _loss(W)\n",
        "        h, G_h = _h(W)\n",
        "        obj = loss + 0.5 * rho * h * h + alpha * h + lambda1 * w.sum()\n",
        "        G_smooth = G_loss + (rho * h + alpha) * G_h\n",
        "        g_obj = np.concatenate((G_smooth + lambda1, - G_smooth + lambda1), axis=None)\n",
        "        return obj, g_obj\n",
        "\n",
        "    n, d = X.shape\n",
        "    w_est, rho, alpha, h = np.zeros(2 * d * d), 1.0, 0.0, np.inf  # double w_est into (w_pos, w_neg)\n",
        "    bnds = [(0, 0) if i == j else (0, None) for _ in range(2) for i in range(d) for j in range(d)]\n",
        "    if loss_type == 'l2':\n",
        "        X = X - np.mean(X, axis=0, keepdims=True)\n",
        "    for _ in range(max_iter):\n",
        "        w_new, h_new = None, None\n",
        "        while rho < rho_max:\n",
        "            sol = sopt.minimize(_func, w_est, method='L-BFGS-B', jac=True, bounds=bnds)\n",
        "            w_new = sol.x\n",
        "            h_new, _ = _h(_adj(w_new))\n",
        "            if h_new > 0.25 * h:\n",
        "                rho *= 10\n",
        "            else:\n",
        "                break\n",
        "        w_est, h = w_new, h_new\n",
        "        alpha += rho * h\n",
        "        if h <= h_tol or rho >= rho_max:\n",
        "            break\n",
        "    W_est = _adj(w_est)\n",
        "    W_est[np.abs(W_est) < w_threshold] = 0\n",
        "    return W_est\n"
      ]
    },
    {
      "cell_type": "markdown",
      "source": [
        "DAG utils. Functions for evaluating if a weighted adjacency matrix describes a DAG, for generating DAGs according to Erdos-Renyi, Barbarasi or bipartite schemes,"
      ],
      "metadata": {
        "id": "oR9aL5V_RKpo"
      }
    },
    {
      "cell_type": "code",
      "source": [
        "import numpy as np\n",
        "from scipy.special import expit as sigmoid\n",
        "import igraph as ig\n",
        "import random\n",
        "\n",
        "\n",
        "def set_random_seed(seed):\n",
        "    random.seed(seed)\n",
        "    np.random.seed(seed)\n",
        "\n",
        "def is_dag(W): # verifies if W descries a DAG (weighted adjacency matrix)\n",
        "    G = ig.Graph.Weighted_Adjacency(W.tolist())\n",
        "    return G.is_dag()\n",
        "\n",
        "\n",
        "####################################### Ground truth graph and params generation ######################\n",
        "\n",
        "\n",
        "def simulate_dag(d, s0, graph_type):\n",
        "    \"\"\"Simulate random DAG with some expected number of edges.\n",
        "\n",
        "    Args:\n",
        "        d (int): num of nodes\n",
        "        s0 (int): expected num of edges\n",
        "        graph_type (str): ER, SF, BP\n",
        "\n",
        "    Returns:\n",
        "        B (np.ndarray): [d, d] binary adj matrix of DAG\n",
        "    \"\"\"\n",
        "    def _random_permutation(M): # Randomly permutes matrix M\n",
        "        P = np.random.permutation(np.eye(M.shape[0]))\n",
        "        return P.T @ M @ P\n",
        "\n",
        "    def _random_acyclic_orientation(B_und): # Randomly permutes the adjacency matrix (induces an ordering on the vertices) and the lower triangulation enforces a topological ordering\n",
        "        return np.tril(_random_permutation(B_und), k=-1)\n",
        "\n",
        "    def _graph_to_adjmat(G): # converts a graph from the igraph library to its adjacency matrix (numpy array)\n",
        "        return np.array(G.get_adjacency().data)\n",
        "\n",
        "    if graph_type == 'ER':\n",
        "        # Erdos-Renyi graph: the n,M model where we enforce M edges to be present in the graph in expectation\n",
        "        G_und = ig.Graph.Erdos_Renyi(n=d, m=s0)\n",
        "        B_und = _graph_to_adjmat(G_und)\n",
        "        B = _random_acyclic_orientation(B_und) # Enforcing acyclicity\n",
        "    elif graph_type == 'SF': #\n",
        "        # Scale-free, Barabasi-Albert the more connections a node has, the more likely it is to have more edges\n",
        "        G = ig.Graph.Barabasi(n=d, m=int(round(s0 / d)), directed=True)\n",
        "        B = _graph_to_adjmat(G)\n",
        "    elif graph_type == 'BP':\n",
        "        # Bipartite, Sec 4.1 of (Gu, Fu, Zhou, 2018)\n",
        "        top = int(0.2 * d)\n",
        "        G = ig.Graph.Random_Bipartite(top, d - top, m=s0, directed=True, neimode=ig.OUT)\n",
        "        B = _graph_to_adjmat(G)\n",
        "    else:\n",
        "        raise ValueError('unknown graph type')\n",
        "    B_perm = _random_permutation(B)\n",
        "    assert ig.Graph.Adjacency(B_perm.tolist()).is_dag()\n",
        "    return B_perm\n",
        "\n",
        "\n",
        "def simulate_parameter(B, w_ranges=((-2.0, -0.5), (0.5, 2.0))):\n",
        "    \"\"\"Simulate SEM parameters for a DAG.\n",
        "\n",
        "    Args:\n",
        "        B (np.ndarray): [d, d] binary adj matrix of DAG\n",
        "        w_ranges (tuple): disjoint weight ranges\n",
        "\n",
        "    Returns:\n",
        "        W (np.ndarray): [d, d] weighted adj matrix of DAG\n",
        "    \"\"\"\n",
        "    W = np.zeros(B.shape)\n",
        "    S = np.random.randint(len(w_ranges), size=B.shape)  # which range\n",
        "    for i, (low, high) in enumerate(w_ranges):\n",
        "        U = np.random.uniform(low=low, high=high, size=B.shape)\n",
        "        W += B * (S == i) * U\n",
        "    return W\n",
        "\n",
        "\n"
      ],
      "metadata": {
        "id": "NdFX8YT7Ga41"
      },
      "execution_count": null,
      "outputs": []
    },
    {
      "cell_type": "markdown",
      "source": [
        "Simulate samples from either a linear on non linear structural equation model"
      ],
      "metadata": {
        "id": "LLPVw1ZeWVze"
      }
    },
    {
      "cell_type": "code",
      "source": [
        "def simulate_linear_sem(W, n, sem_type, noise_scale=None):\n",
        "    \"\"\"Simulate samples from linear SEM with specified type of noise.\n",
        "\n",
        "    For uniform, noise z ~ uniform(-a, a), where a = noise_scale.\n",
        "\n",
        "    Args:\n",
        "        W (np.ndarray): [d, d] weighted adj matrix of DAG\n",
        "        n (int): num of samples, n=inf mimics population risk\n",
        "        sem_type (str): gauss, exp, gumbel, uniform, logistic, poisson\n",
        "        noise_scale (np.ndarray): scale parameter of additive noise, default all ones\n",
        "\n",
        "    Returns:\n",
        "        X (np.ndarray): [n, d] sample matrix, [d, d] if n=inf\n",
        "    \"\"\"\n",
        "    def _simulate_single_equation(X, w, scale):\n",
        "        \"\"\"X: [n, num of parents], w: [num of parents], x: [n]\"\"\"\n",
        "        if sem_type == 'gauss':\n",
        "            z = np.random.normal(scale=scale, size=n)\n",
        "            x = X @ w + z\n",
        "        elif sem_type == 'exp':\n",
        "            z = np.random.exponential(scale=scale, size=n)\n",
        "            x = X @ w + z\n",
        "        elif sem_type == 'gumbel':\n",
        "            z = np.random.gumbel(scale=scale, size=n)\n",
        "            x = X @ w + z\n",
        "        elif sem_type == 'uniform':\n",
        "            z = np.random.uniform(low=-scale, high=scale, size=n)\n",
        "            x = X @ w + z\n",
        "        elif sem_type == 'logistic':\n",
        "            x = np.random.binomial(1, sigmoid(X @ w)) * 1.0\n",
        "        elif sem_type == 'poisson':\n",
        "            x = np.random.poisson(np.exp(X @ w)) * 1.0\n",
        "        else:\n",
        "            raise ValueError('unknown sem type')\n",
        "        return x\n",
        "\n",
        "    d = W.shape[0]\n",
        "    if noise_scale is None:\n",
        "        scale_vec = np.ones(d)\n",
        "    elif np.isscalar(noise_scale):\n",
        "        scale_vec = noise_scale * np.ones(d)\n",
        "    else:\n",
        "        if len(noise_scale) != d:\n",
        "            raise ValueError('noise scale must be a scalar or has length d')\n",
        "        scale_vec = noise_scale\n",
        "    if not is_dag(W):\n",
        "        raise ValueError('W must be a DAG')\n",
        "    if np.isinf(n):  # population risk for linear gauss SEM\n",
        "        if sem_type == 'gauss':\n",
        "            # make 1/d X'X = true cov\n",
        "            X = np.sqrt(d) * np.diag(scale_vec) @ np.linalg.inv(np.eye(d) - W)\n",
        "            return X\n",
        "        else:\n",
        "            raise ValueError('population risk not available')\n",
        "    # empirical risk\n",
        "    G = ig.Graph.Weighted_Adjacency(W.tolist())\n",
        "    ordered_vertices = G.topological_sorting()\n",
        "    assert len(ordered_vertices) == d\n",
        "    X = np.zeros([n, d])\n",
        "    for j in ordered_vertices:\n",
        "        parents = G.neighbors(j, mode=ig.IN)\n",
        "        X[:, j] = _simulate_single_equation(X[:, parents], W[parents, j], scale_vec[j])\n",
        "    return X\n",
        "\n",
        "\n",
        "def simulate_nonlinear_sem(B, n, sem_type, noise_scale=None):\n",
        "    \"\"\"Simulate samples from nonlinear SEM.\n",
        "\n",
        "    Args:\n",
        "        B (np.ndarray): [d, d] binary adj matrix of DAG\n",
        "        n (int): num of samples\n",
        "        sem_type (str): mlp, mim, gp, gp-add\n",
        "        noise_scale (np.ndarray): scale parameter of additive noise, default all ones\n",
        "\n",
        "    Returns:\n",
        "        X (np.ndarray): [n, d] sample matrix\n",
        "    \"\"\"\n",
        "    def _simulate_single_equation(X, scale):\n",
        "        \"\"\"X: [n, num of parents], x: [n]\"\"\"\n",
        "        z = np.random.normal(scale=scale, size=n)\n",
        "        pa_size = X.shape[1]\n",
        "        if pa_size == 0:\n",
        "            return z\n",
        "        if sem_type == 'mlp':\n",
        "            hidden = 100\n",
        "            W1 = np.random.uniform(low=0.5, high=2.0, size=[pa_size, hidden])\n",
        "            W1[np.random.rand(*W1.shape) < 0.5] *= -1\n",
        "            W2 = np.random.uniform(low=0.5, high=2.0, size=hidden)\n",
        "            W2[np.random.rand(hidden) < 0.5] *= -1\n",
        "            x = sigmoid(X @ W1) @ W2 + z\n",
        "        elif sem_type == 'mim':\n",
        "            w1 = np.random.uniform(low=0.5, high=2.0, size=pa_size)\n",
        "            w1[np.random.rand(pa_size) < 0.5] *= -1\n",
        "            w2 = np.random.uniform(low=0.5, high=2.0, size=pa_size)\n",
        "            w2[np.random.rand(pa_size) < 0.5] *= -1\n",
        "            w3 = np.random.uniform(low=0.5, high=2.0, size=pa_size)\n",
        "            w3[np.random.rand(pa_size) < 0.5] *= -1\n",
        "            x = np.tanh(X @ w1) + np.cos(X @ w2) + np.sin(X @ w3) + z\n",
        "        elif sem_type == 'gp':\n",
        "            from sklearn.gaussian_process import GaussianProcessRegressor\n",
        "            gp = GaussianProcessRegressor()\n",
        "            x = gp.sample_y(X, random_state=None).flatten() + z\n",
        "        elif sem_type == 'gp-add':\n",
        "            from sklearn.gaussian_process import GaussianProcessRegressor\n",
        "            gp = GaussianProcessRegressor()\n",
        "            x = sum([gp.sample_y(X[:, i, None], random_state=None).flatten()\n",
        "                     for i in range(X.shape[1])]) + z\n",
        "        else:\n",
        "            raise ValueError('unknown sem type')\n",
        "        return x\n",
        "\n",
        "    d = B.shape[0]\n",
        "    scale_vec = noise_scale if noise_scale else np.ones(d)\n",
        "    X = np.zeros([n, d])\n",
        "    G = ig.Graph.Adjacency(B.tolist())\n",
        "    ordered_vertices = G.topological_sorting()\n",
        "    assert len(ordered_vertices) == d\n",
        "    for j in ordered_vertices:\n",
        "        parents = G.neighbors(j, mode=ig.IN)\n",
        "        X[:, j] = _simulate_single_equation(X[:, parents], scale_vec[j])\n",
        "    return X\n",
        "\n"
      ],
      "metadata": {
        "id": "HUnybAbSSQZf"
      },
      "execution_count": null,
      "outputs": []
    },
    {
      "cell_type": "markdown",
      "source": [
        "Evaluation metric between the estimated graph and the ground truth graph"
      ],
      "metadata": {
        "id": "LnGTM6aKW1aE"
      }
    },
    {
      "cell_type": "code",
      "source": [
        "def count_accuracy(B_true, B_est):\n",
        "    \"\"\"Compute various accuracy metrics for B_est.\n",
        "\n",
        "    true positive = predicted association exists in condition in correct direction\n",
        "    reverse = predicted association exists in condition in opposite direction\n",
        "    false positive = predicted association does not exist in condition\n",
        "\n",
        "    Args:\n",
        "        B_true (np.ndarray): [d, d] ground truth graph, {0, 1}\n",
        "        B_est (np.ndarray): [d, d] estimate, {0, 1, -1}, -1 is undirected edge in CPDAG\n",
        "\n",
        "    Returns:\n",
        "        fdr: (reverse + false positive) / prediction positive\n",
        "        tpr: (true positive) / condition positive\n",
        "        fpr: (reverse + false positive) / condition negative\n",
        "        shd: undirected extra + undirected missing + reverse\n",
        "        nnz: prediction positive\n",
        "    \"\"\"\n",
        "    if (B_est == -1).any():  # cpdag\n",
        "        if not ((B_est == 0) | (B_est == 1) | (B_est == -1)).all():\n",
        "            raise ValueError('B_est should take value in {0,1,-1}')\n",
        "        if ((B_est == -1) & (B_est.T == -1)).any():\n",
        "            raise ValueError('undirected edge should only appear once')\n",
        "    else:  # dag\n",
        "        if not ((B_est == 0) | (B_est == 1)).all():\n",
        "            raise ValueError('B_est should take value in {0,1}')\n",
        "        if not is_dag(B_est):\n",
        "            raise ValueError('B_est should be a DAG')\n",
        "    d = B_true.shape[0]\n",
        "    # linear index of nonzeros\n",
        "    pred_und = np.flatnonzero(B_est == -1)\n",
        "    pred = np.flatnonzero(B_est == 1)\n",
        "    cond = np.flatnonzero(B_true)\n",
        "    cond_reversed = np.flatnonzero(B_true.T)\n",
        "    cond_skeleton = np.concatenate([cond, cond_reversed])\n",
        "    # true pos\n",
        "    true_pos = np.intersect1d(pred, cond, assume_unique=True)\n",
        "    # treat undirected edge favorably\n",
        "    true_pos_und = np.intersect1d(pred_und, cond_skeleton, assume_unique=True)\n",
        "    true_pos = np.concatenate([true_pos, true_pos_und])\n",
        "    # false pos\n",
        "    false_pos = np.setdiff1d(pred, cond_skeleton, assume_unique=True)\n",
        "    false_pos_und = np.setdiff1d(pred_und, cond_skeleton, assume_unique=True)\n",
        "    false_pos = np.concatenate([false_pos, false_pos_und])\n",
        "    # reverse\n",
        "    extra = np.setdiff1d(pred, cond, assume_unique=True)\n",
        "    reverse = np.intersect1d(extra, cond_reversed, assume_unique=True)\n",
        "    # compute ratio\n",
        "    pred_size = len(pred) + len(pred_und)\n",
        "    cond_neg_size = 0.5 * d * (d - 1) - len(cond)\n",
        "    fdr = float(len(reverse) + len(false_pos)) / max(pred_size, 1)\n",
        "    tpr = float(len(true_pos)) / max(len(cond), 1)\n",
        "    fpr = float(len(reverse) + len(false_pos)) / max(cond_neg_size, 1)\n",
        "    # structural hamming distance\n",
        "    pred_lower = np.flatnonzero(np.tril(B_est + B_est.T))\n",
        "    cond_lower = np.flatnonzero(np.tril(B_true + B_true.T))\n",
        "    extra_lower = np.setdiff1d(pred_lower, cond_lower, assume_unique=True)\n",
        "    missing_lower = np.setdiff1d(cond_lower, pred_lower, assume_unique=True)\n",
        "    shd = len(extra_lower) + len(missing_lower) + len(reverse)\n",
        "    return {'fdr': fdr, 'tpr': tpr, 'fpr': fpr, 'structural_hamming_du': shd, 'nnz': pred_size}"
      ],
      "metadata": {
        "id": "skH9KJGnWUY8"
      },
      "execution_count": null,
      "outputs": []
    },
    {
      "cell_type": "code",
      "source": [
        "# n, d, s0, graph_type, sem_type = 100, 20, 20, 'ER', 'gauss'\n",
        "# B_true = simulate_dag(d, s0, graph_type)\n",
        "# W_true = simulate_parameter(B_true)\n",
        "# np.savetxt('W_true.csv', W_true, delimiter=',')\n",
        "\n",
        "# X = simulate_linear_sem(W_true, n, sem_type)\n",
        "# np.savetxt('X.csv', X, delimiter=',')\n",
        "\n",
        "# W_est = notears_linear(X, lambda1=0.1, loss_type='l2')\n",
        "# assert is_dag(W_est)\n",
        "# np.savetxt('W_est.csv', W_est, delimiter=',')\n",
        "# acc = count_accuracy(B_true, W_est != 0)\n",
        "# print(acc)"
      ],
      "metadata": {
        "id": "8bPuJYbaW8sI"
      },
      "execution_count": null,
      "outputs": []
    },
    {
      "cell_type": "code",
      "source": [
        "# G = ig.Graph.Weighted_Adjacency(W_est.tolist())\n",
        "# ig.plot(G, bbox=(0, 0, 250, 250))"
      ],
      "metadata": {
        "id": "dt8OsUddrLSB"
      },
      "execution_count": null,
      "outputs": []
    },
    {
      "cell_type": "markdown",
      "source": [
        "# Vincent's playground"
      ],
      "metadata": {
        "id": "qsApdCdrtOa_"
      }
    },
    {
      "cell_type": "code",
      "source": [
        "def intersection_of_dags(W1, W2):\n",
        "    \"\"\"\n",
        "    Compute the intersection of two DAGs represented by weighted adjacency matrices.\n",
        "\n",
        "    Parameters:\n",
        "        W1 (np.ndarray): [d, d] weighted adjacency matrix of the first DAG.\n",
        "        W2 (np.ndarray): [d, d] weighted adjacency matrix of the second DAG.\n",
        "\n",
        "    Returns:\n",
        "        np.ndarray: [d, d] weighted adjacency matrix of the intersection of W1 and W2.\n",
        "    \"\"\"\n",
        "    # Identify common edges (non-zero in both matrices)\n",
        "    common_edges_mask = (W1 > 0) & (W2 > 0)\n",
        "\n",
        "    # Compute the intersection: take minimum weights of common edges\n",
        "    intersection = np.zeros_like(W1)\n",
        "    intersection[common_edges_mask] = 1\n",
        "\n",
        "    return intersection"
      ],
      "metadata": {
        "id": "R9zd1uxE8h9s"
      },
      "execution_count": null,
      "outputs": []
    },
    {
      "cell_type": "code",
      "source": [
        "from sklearn.mixture import GaussianMixture\n",
        "\n",
        "# Number of samples for each distribution\n",
        "n1 = 1000\n",
        "n2 = 1000\n",
        "\n",
        "# d: number of nodes\n",
        "# s0: number of edges\n",
        "d, s0, graph_type, sem_type = 5, 3, 'ER', 'gauss'\n",
        "# d, s0, graph_type, sem_type = 30, 10, 'ER', 'uniform'\n",
        "\n",
        "cond = True\n",
        "\n",
        "while cond:\n",
        "  # Generate graph 1 and n1 samples from it\n",
        "  B_true1 = simulate_dag(d, s0, graph_type)\n",
        "  W_true1 = simulate_parameter(B_true1)\n",
        "  np.savetxt('W_true1.csv', W_true1, delimiter=',')\n",
        "  X1 = simulate_linear_sem(W_true1, n1, sem_type)\n",
        "  # X1 = simulate_nonlinear_sem(B_true1, n1, 'gp-add')\n",
        "\n",
        "  # Generate graph 2 and n2 samples from it\n",
        "  B_true2 = simulate_dag(d, s0, graph_type)\n",
        "  W_true2 = simulate_parameter(B_true2)\n",
        "  np.savetxt('W_true1.csv', W_true2, delimiter=',')\n",
        "  X2 = simulate_linear_sem(W_true2, n2, sem_type)\n",
        "  # X2 = simulate_nonlinear_sem(B_true2, n2, 'gp-add')\n",
        "\n",
        "  W_true_all = intersection_of_dags(W_true1, W_true2)\n",
        "\n",
        "  if W_true_all.any():\n",
        "    cond = False\n",
        "\n",
        "# Merge the samples\n",
        "X = np.concatenate([X1, X2])[np.random.shuffle(np.arange(n1+n2))][0]\n",
        "# Train Gaussian Mixture Model to split back the dataset into two distributions\n",
        "GMM = GaussianMixture(n_components=2, covariance_type=\"full\", max_iter=1000)\n",
        "GMM.fit(X)\n",
        "\n",
        "# Split back the dataset into two\n",
        "preds = GMM.predict(X)\n",
        "X_est1 = X[preds == 0]\n",
        "X_est2 = X[preds == 1]\n",
        "\n",
        "# Learn two graphs\n",
        "W_est1 = notears_linear(X_est1, lambda1=0.1, loss_type='l2', w_threshold=0.3)\n",
        "W_est2 = notears_linear(X_est2, lambda1=0.1, loss_type='l2', w_threshold=0.3)\n",
        "\n",
        "W_est_intersect = intersection_of_dags(W_est1, W_est2)\n",
        "W_est_all = notears_linear(X, lambda1=0.1, loss_type='l2', w_threshold=0.3)"
      ],
      "metadata": {
        "id": "smY5G9T1tS6V"
      },
      "execution_count": null,
      "outputs": []
    },
    {
      "cell_type": "code",
      "source": [
        "correct1 = 0\n",
        "for x in X_est1:\n",
        "  if x in X1:\n",
        "    correct1 += 1\n",
        "for x in X_est2:\n",
        "  if x in X2:\n",
        "    correct1 += 1\n",
        "\n",
        "correct2 = 0\n",
        "for x in X_est2:\n",
        "  if x in X1:\n",
        "    correct2 += 1\n",
        "for x in X_est1:\n",
        "  if x in X2:\n",
        "    correct2 += 1\n",
        "print(f\"Correct classes : {max(correct1, correct2)/(n1+n2)}\")"
      ],
      "metadata": {
        "colab": {
          "base_uri": "https://localhost:8080/"
        },
        "id": "_-mqOpPc2JTu",
        "outputId": "4d5f9d31-af36-4aef-c006-089dc4d36e26"
      },
      "execution_count": null,
      "outputs": [
        {
          "output_type": "stream",
          "name": "stdout",
          "text": [
            "Correct classes : 0.845\n"
          ]
        }
      ]
    },
    {
      "cell_type": "code",
      "source": [
        "print(\"DAG A\")\n",
        "g1 = ig.Graph.Weighted_Adjacency(W_true1.tolist())\n",
        "ig.plot(ig.Graph.Weighted_Adjacency(W_true1.tolist()), bbox=(0, 0, 150, 150), layout=g1.layout_star())"
      ],
      "metadata": {
        "colab": {
          "base_uri": "https://localhost:8080/",
          "height": 239
        },
        "id": "HE4eobSdyMyV",
        "outputId": "4c45a9e1-1dba-4a84-ace1-a0a6a1ec3a66"
      },
      "execution_count": null,
      "outputs": [
        {
          "output_type": "stream",
          "name": "stdout",
          "text": [
            "DAG A\n"
          ]
        },
        {
          "output_type": "execute_result",
          "data": {
            "text/plain": [
              "<igraph.drawing.cairo.plot.CairoPlot at 0x79cf4c3c47c0>"
            ],
            "image/svg+xml": "<?xml version=\"1.0\" encoding=\"UTF-8\"?>\n<svg xmlns=\"http://www.w3.org/2000/svg\" xmlns:xlink=\"http://www.w3.org/1999/xlink\" width=\"150pt\" height=\"150pt\" viewBox=\"0 0 150 150\" version=\"1.1\">\n<g id=\"surface452\">\n<rect x=\"0\" y=\"0\" width=\"150\" height=\"150\" style=\"fill:rgb(100%,100%,100%);fill-opacity:1;stroke:none;\"/>\n<path style=\"fill:none;stroke-width:1;stroke-linecap:butt;stroke-linejoin:miter;stroke:rgb(26.666667%,26.666667%,26.666667%);stroke-opacity:1;stroke-miterlimit:10;\" d=\"M 75 75 L 105.734375 75 \"/>\n<path style=\" stroke:none;fill-rule:nonzero;fill:rgb(26.666667%,26.666667%,26.666667%);fill-opacity:1;\" d=\"M 120 75 L 105.734375 79.636719 L 105.734375 70.363281 L 120 75 \"/>\n<path style=\"fill:none;stroke-width:1;stroke-linecap:butt;stroke-linejoin:miter;stroke:rgb(26.666667%,26.666667%,26.666667%);stroke-opacity:1;stroke-miterlimit:10;\" d=\"M 75 75 L 44.265625 75 \"/>\n<path style=\" stroke:none;fill-rule:nonzero;fill:rgb(26.666667%,26.666667%,26.666667%);fill-opacity:1;\" d=\"M 30 75 L 44.265625 70.363281 L 44.265625 79.636719 L 30 75 \"/>\n<path style=\"fill:none;stroke-width:1;stroke-linecap:butt;stroke-linejoin:miter;stroke:rgb(26.666667%,26.666667%,26.666667%);stroke-opacity:1;stroke-miterlimit:10;\" d=\"M 130 75 L 44.265625 75 \"/>\n<path style=\" stroke:none;fill-rule:nonzero;fill:rgb(26.666667%,26.666667%,26.666667%);fill-opacity:1;\" d=\"M 30 75 L 44.265625 70.363281 L 44.265625 79.636719 L 30 75 \"/>\n<path style=\"fill-rule:nonzero;fill:rgb(100%,0%,0%);fill-opacity:1;stroke-width:1;stroke-linecap:butt;stroke-linejoin:miter;stroke:rgb(0%,0%,0%);stroke-opacity:1;stroke-miterlimit:10;\" d=\"M 85 75 C 85 80.523438 80.523438 85 75 85 C 69.476562 85 65 80.523438 65 75 C 65 69.476562 69.476562 65 75 65 C 80.523438 65 85 69.476562 85 75 \"/>\n<path style=\"fill-rule:nonzero;fill:rgb(100%,0%,0%);fill-opacity:1;stroke-width:1;stroke-linecap:butt;stroke-linejoin:miter;stroke:rgb(0%,0%,0%);stroke-opacity:1;stroke-miterlimit:10;\" d=\"M 140 75 C 140 80.523438 135.523438 85 130 85 C 124.476562 85 120 80.523438 120 75 C 120 69.476562 124.476562 65 130 65 C 135.523438 65 140 69.476562 140 75 \"/>\n<path style=\"fill-rule:nonzero;fill:rgb(100%,0%,0%);fill-opacity:1;stroke-width:1;stroke-linecap:butt;stroke-linejoin:miter;stroke:rgb(0%,0%,0%);stroke-opacity:1;stroke-miterlimit:10;\" d=\"M 85 130 C 85 135.523438 80.523438 140 75 140 C 69.476562 140 65 135.523438 65 130 C 65 124.476562 69.476562 120 75 120 C 80.523438 120 85 124.476562 85 130 \"/>\n<path style=\"fill-rule:nonzero;fill:rgb(100%,0%,0%);fill-opacity:1;stroke-width:1;stroke-linecap:butt;stroke-linejoin:miter;stroke:rgb(0%,0%,0%);stroke-opacity:1;stroke-miterlimit:10;\" d=\"M 30 75 C 30 80.523438 25.523438 85 20 85 C 14.476562 85 10 80.523438 10 75 C 10 69.476562 14.476562 65 20 65 C 25.523438 65 30 69.476562 30 75 \"/>\n<path style=\"fill-rule:nonzero;fill:rgb(100%,0%,0%);fill-opacity:1;stroke-width:1;stroke-linecap:butt;stroke-linejoin:miter;stroke:rgb(0%,0%,0%);stroke-opacity:1;stroke-miterlimit:10;\" d=\"M 85 20 C 85 25.523438 80.523438 30 75 30 C 69.476562 30 65 25.523438 65 20 C 65 14.476562 69.476562 10 75 10 C 80.523438 10 85 14.476562 85 20 \"/>\n</g>\n</svg>\n"
          },
          "metadata": {
            "image/svg+xml": {
              "isolated": true
            }
          },
          "execution_count": 189
        }
      ]
    },
    {
      "cell_type": "code",
      "source": [
        "print(\"DAG B\")\n",
        "g2 = ig.Graph.Weighted_Adjacency(W_true2.tolist())\n",
        "ig.plot(ig.Graph.Weighted_Adjacency(W_true2.tolist()), bbox=(0, 0, 150, 150), layout=g2.layout_star())"
      ],
      "metadata": {
        "colab": {
          "base_uri": "https://localhost:8080/",
          "height": 239
        },
        "id": "1qJn56mayYYR",
        "outputId": "9a36b2ae-bf45-4f3c-f8b2-73d2f664822b"
      },
      "execution_count": null,
      "outputs": [
        {
          "output_type": "stream",
          "name": "stdout",
          "text": [
            "DAG B\n"
          ]
        },
        {
          "output_type": "execute_result",
          "data": {
            "text/plain": [
              "<igraph.drawing.cairo.plot.CairoPlot at 0x79ceb8839450>"
            ],
            "image/svg+xml": "<?xml version=\"1.0\" encoding=\"UTF-8\"?>\n<svg xmlns=\"http://www.w3.org/2000/svg\" xmlns:xlink=\"http://www.w3.org/1999/xlink\" width=\"150pt\" height=\"150pt\" viewBox=\"0 0 150 150\" version=\"1.1\">\n<g id=\"surface458\">\n<rect x=\"0\" y=\"0\" width=\"150\" height=\"150\" style=\"fill:rgb(100%,100%,100%);fill-opacity:1;stroke:none;\"/>\n<path style=\"fill:none;stroke-width:1;stroke-linecap:butt;stroke-linejoin:miter;stroke:rgb(26.666667%,26.666667%,26.666667%);stroke-opacity:1;stroke-miterlimit:10;\" d=\"M 75 75 L 44.265625 75 \"/>\n<path style=\" stroke:none;fill-rule:nonzero;fill:rgb(26.666667%,26.666667%,26.666667%);fill-opacity:1;\" d=\"M 30 75 L 44.265625 70.363281 L 44.265625 79.636719 L 30 75 \"/>\n<path style=\"fill:none;stroke-width:1;stroke-linecap:butt;stroke-linejoin:miter;stroke:rgb(26.666667%,26.666667%,26.666667%);stroke-opacity:1;stroke-miterlimit:10;\" d=\"M 75 75 L 75 44.265625 \"/>\n<path style=\" stroke:none;fill-rule:nonzero;fill:rgb(26.666667%,26.666667%,26.666667%);fill-opacity:1;\" d=\"M 75 30 L 79.636719 44.265625 L 70.363281 44.265625 L 75 30 \"/>\n<path style=\"fill:none;stroke-width:1;stroke-linecap:butt;stroke-linejoin:miter;stroke:rgb(26.666667%,26.666667%,26.666667%);stroke-opacity:1;stroke-miterlimit:10;\" d=\"M 75 130 L 112.839844 92.160156 \"/>\n<path style=\" stroke:none;fill-rule:nonzero;fill:rgb(26.666667%,26.666667%,26.666667%);fill-opacity:1;\" d=\"M 122.929688 82.070312 L 116.117188 95.4375 L 109.5625 88.882812 L 122.929688 82.070312 \"/>\n<path style=\"fill-rule:nonzero;fill:rgb(100%,0%,0%);fill-opacity:1;stroke-width:1;stroke-linecap:butt;stroke-linejoin:miter;stroke:rgb(0%,0%,0%);stroke-opacity:1;stroke-miterlimit:10;\" d=\"M 85 75 C 85 80.523438 80.523438 85 75 85 C 69.476562 85 65 80.523438 65 75 C 65 69.476562 69.476562 65 75 65 C 80.523438 65 85 69.476562 85 75 \"/>\n<path style=\"fill-rule:nonzero;fill:rgb(100%,0%,0%);fill-opacity:1;stroke-width:1;stroke-linecap:butt;stroke-linejoin:miter;stroke:rgb(0%,0%,0%);stroke-opacity:1;stroke-miterlimit:10;\" d=\"M 140 75 C 140 80.523438 135.523438 85 130 85 C 124.476562 85 120 80.523438 120 75 C 120 69.476562 124.476562 65 130 65 C 135.523438 65 140 69.476562 140 75 \"/>\n<path style=\"fill-rule:nonzero;fill:rgb(100%,0%,0%);fill-opacity:1;stroke-width:1;stroke-linecap:butt;stroke-linejoin:miter;stroke:rgb(0%,0%,0%);stroke-opacity:1;stroke-miterlimit:10;\" d=\"M 85 130 C 85 135.523438 80.523438 140 75 140 C 69.476562 140 65 135.523438 65 130 C 65 124.476562 69.476562 120 75 120 C 80.523438 120 85 124.476562 85 130 \"/>\n<path style=\"fill-rule:nonzero;fill:rgb(100%,0%,0%);fill-opacity:1;stroke-width:1;stroke-linecap:butt;stroke-linejoin:miter;stroke:rgb(0%,0%,0%);stroke-opacity:1;stroke-miterlimit:10;\" d=\"M 30 75 C 30 80.523438 25.523438 85 20 85 C 14.476562 85 10 80.523438 10 75 C 10 69.476562 14.476562 65 20 65 C 25.523438 65 30 69.476562 30 75 \"/>\n<path style=\"fill-rule:nonzero;fill:rgb(100%,0%,0%);fill-opacity:1;stroke-width:1;stroke-linecap:butt;stroke-linejoin:miter;stroke:rgb(0%,0%,0%);stroke-opacity:1;stroke-miterlimit:10;\" d=\"M 85 20 C 85 25.523438 80.523438 30 75 30 C 69.476562 30 65 25.523438 65 20 C 65 14.476562 69.476562 10 75 10 C 80.523438 10 85 14.476562 85 20 \"/>\n</g>\n</svg>\n"
          },
          "metadata": {
            "image/svg+xml": {
              "isolated": true
            }
          },
          "execution_count": 190
        }
      ]
    },
    {
      "cell_type": "code",
      "source": [
        "print(\"Learned DAG 1\")\n",
        "g1 = ig.Graph.Weighted_Adjacency(W_est1.tolist())\n",
        "ig.plot(g1, bbox=(0, 0, 150, 150), layout=g1.layout_star())"
      ],
      "metadata": {
        "colab": {
          "base_uri": "https://localhost:8080/",
          "height": 239
        },
        "id": "kEL3HRGa2vP9",
        "outputId": "8f633df9-822d-4309-dea8-cc443b55c964"
      },
      "execution_count": null,
      "outputs": [
        {
          "output_type": "stream",
          "name": "stdout",
          "text": [
            "Learned DAG 1\n"
          ]
        },
        {
          "output_type": "execute_result",
          "data": {
            "text/plain": [
              "<igraph.drawing.cairo.plot.CairoPlot at 0x79cf4c3c7010>"
            ],
            "image/svg+xml": "<?xml version=\"1.0\" encoding=\"UTF-8\"?>\n<svg xmlns=\"http://www.w3.org/2000/svg\" xmlns:xlink=\"http://www.w3.org/1999/xlink\" width=\"150pt\" height=\"150pt\" viewBox=\"0 0 150 150\" version=\"1.1\">\n<g id=\"surface464\">\n<rect x=\"0\" y=\"0\" width=\"150\" height=\"150\" style=\"fill:rgb(100%,100%,100%);fill-opacity:1;stroke:none;\"/>\n<path style=\"fill:none;stroke-width:1;stroke-linecap:butt;stroke-linejoin:miter;stroke:rgb(26.666667%,26.666667%,26.666667%);stroke-opacity:1;stroke-miterlimit:10;\" d=\"M 75 75 L 44.265625 75 \"/>\n<path style=\" stroke:none;fill-rule:nonzero;fill:rgb(26.666667%,26.666667%,26.666667%);fill-opacity:1;\" d=\"M 30 75 L 44.265625 70.363281 L 44.265625 79.636719 L 30 75 \"/>\n<path style=\"fill:none;stroke-width:1;stroke-linecap:butt;stroke-linejoin:miter;stroke:rgb(26.666667%,26.666667%,26.666667%);stroke-opacity:1;stroke-miterlimit:10;\" d=\"M 75 75 L 75 44.265625 \"/>\n<path style=\" stroke:none;fill-rule:nonzero;fill:rgb(26.666667%,26.666667%,26.666667%);fill-opacity:1;\" d=\"M 75 30 L 79.636719 44.265625 L 70.363281 44.265625 L 75 30 \"/>\n<path style=\"fill:none;stroke-width:1;stroke-linecap:butt;stroke-linejoin:miter;stroke:rgb(26.666667%,26.666667%,26.666667%);stroke-opacity:1;stroke-miterlimit:10;\" d=\"M 75 130 L 112.839844 92.160156 \"/>\n<path style=\" stroke:none;fill-rule:nonzero;fill:rgb(26.666667%,26.666667%,26.666667%);fill-opacity:1;\" d=\"M 122.929688 82.070312 L 116.117188 95.4375 L 109.5625 88.882812 L 122.929688 82.070312 \"/>\n<path style=\"fill-rule:nonzero;fill:rgb(100%,0%,0%);fill-opacity:1;stroke-width:1;stroke-linecap:butt;stroke-linejoin:miter;stroke:rgb(0%,0%,0%);stroke-opacity:1;stroke-miterlimit:10;\" d=\"M 85 75 C 85 80.523438 80.523438 85 75 85 C 69.476562 85 65 80.523438 65 75 C 65 69.476562 69.476562 65 75 65 C 80.523438 65 85 69.476562 85 75 \"/>\n<path style=\"fill-rule:nonzero;fill:rgb(100%,0%,0%);fill-opacity:1;stroke-width:1;stroke-linecap:butt;stroke-linejoin:miter;stroke:rgb(0%,0%,0%);stroke-opacity:1;stroke-miterlimit:10;\" d=\"M 140 75 C 140 80.523438 135.523438 85 130 85 C 124.476562 85 120 80.523438 120 75 C 120 69.476562 124.476562 65 130 65 C 135.523438 65 140 69.476562 140 75 \"/>\n<path style=\"fill-rule:nonzero;fill:rgb(100%,0%,0%);fill-opacity:1;stroke-width:1;stroke-linecap:butt;stroke-linejoin:miter;stroke:rgb(0%,0%,0%);stroke-opacity:1;stroke-miterlimit:10;\" d=\"M 85 130 C 85 135.523438 80.523438 140 75 140 C 69.476562 140 65 135.523438 65 130 C 65 124.476562 69.476562 120 75 120 C 80.523438 120 85 124.476562 85 130 \"/>\n<path style=\"fill-rule:nonzero;fill:rgb(100%,0%,0%);fill-opacity:1;stroke-width:1;stroke-linecap:butt;stroke-linejoin:miter;stroke:rgb(0%,0%,0%);stroke-opacity:1;stroke-miterlimit:10;\" d=\"M 30 75 C 30 80.523438 25.523438 85 20 85 C 14.476562 85 10 80.523438 10 75 C 10 69.476562 14.476562 65 20 65 C 25.523438 65 30 69.476562 30 75 \"/>\n<path style=\"fill-rule:nonzero;fill:rgb(100%,0%,0%);fill-opacity:1;stroke-width:1;stroke-linecap:butt;stroke-linejoin:miter;stroke:rgb(0%,0%,0%);stroke-opacity:1;stroke-miterlimit:10;\" d=\"M 85 20 C 85 25.523438 80.523438 30 75 30 C 69.476562 30 65 25.523438 65 20 C 65 14.476562 69.476562 10 75 10 C 80.523438 10 85 14.476562 85 20 \"/>\n</g>\n</svg>\n"
          },
          "metadata": {
            "image/svg+xml": {
              "isolated": true
            }
          },
          "execution_count": 191
        }
      ]
    },
    {
      "cell_type": "code",
      "source": [
        "print(\"Learned DAG 2\")\n",
        "g2 = ig.Graph.Weighted_Adjacency(W_est2.tolist())\n",
        "ig.plot(g2, bbox=(0, 0, 150, 150), layout=g2.layout_star())"
      ],
      "metadata": {
        "colab": {
          "base_uri": "https://localhost:8080/",
          "height": 239
        },
        "id": "I7HGvI7e23Ii",
        "outputId": "b89e5599-e4e4-41ab-eadb-dbc3b32ae704"
      },
      "execution_count": null,
      "outputs": [
        {
          "output_type": "stream",
          "name": "stdout",
          "text": [
            "Learned DAG 2\n"
          ]
        },
        {
          "output_type": "execute_result",
          "data": {
            "text/plain": [
              "<igraph.drawing.cairo.plot.CairoPlot at 0x79cf4c3c7f10>"
            ],
            "image/svg+xml": "<?xml version=\"1.0\" encoding=\"UTF-8\"?>\n<svg xmlns=\"http://www.w3.org/2000/svg\" xmlns:xlink=\"http://www.w3.org/1999/xlink\" width=\"150pt\" height=\"150pt\" viewBox=\"0 0 150 150\" version=\"1.1\">\n<g id=\"surface470\">\n<rect x=\"0\" y=\"0\" width=\"150\" height=\"150\" style=\"fill:rgb(100%,100%,100%);fill-opacity:1;stroke:none;\"/>\n<path style=\"fill:none;stroke-width:1;stroke-linecap:butt;stroke-linejoin:miter;stroke:rgb(26.666667%,26.666667%,26.666667%);stroke-opacity:1;stroke-miterlimit:10;\" d=\"M 75 75 L 105.734375 75 \"/>\n<path style=\" stroke:none;fill-rule:nonzero;fill:rgb(26.666667%,26.666667%,26.666667%);fill-opacity:1;\" d=\"M 120 75 L 105.734375 79.636719 L 105.734375 70.363281 L 120 75 \"/>\n<path style=\"fill:none;stroke-width:1;stroke-linecap:butt;stroke-linejoin:miter;stroke:rgb(26.666667%,26.666667%,26.666667%);stroke-opacity:1;stroke-miterlimit:10;\" d=\"M 75 75 L 44.265625 75 \"/>\n<path style=\" stroke:none;fill-rule:nonzero;fill:rgb(26.666667%,26.666667%,26.666667%);fill-opacity:1;\" d=\"M 30 75 L 44.265625 70.363281 L 44.265625 79.636719 L 30 75 \"/>\n<path style=\"fill:none;stroke-width:1;stroke-linecap:butt;stroke-linejoin:miter;stroke:rgb(26.666667%,26.666667%,26.666667%);stroke-opacity:1;stroke-miterlimit:10;\" d=\"M 130 75 L 44.265625 75 \"/>\n<path style=\" stroke:none;fill-rule:nonzero;fill:rgb(26.666667%,26.666667%,26.666667%);fill-opacity:1;\" d=\"M 30 75 L 44.265625 70.363281 L 44.265625 79.636719 L 30 75 \"/>\n<path style=\"fill-rule:nonzero;fill:rgb(100%,0%,0%);fill-opacity:1;stroke-width:1;stroke-linecap:butt;stroke-linejoin:miter;stroke:rgb(0%,0%,0%);stroke-opacity:1;stroke-miterlimit:10;\" d=\"M 85 75 C 85 80.523438 80.523438 85 75 85 C 69.476562 85 65 80.523438 65 75 C 65 69.476562 69.476562 65 75 65 C 80.523438 65 85 69.476562 85 75 \"/>\n<path style=\"fill-rule:nonzero;fill:rgb(100%,0%,0%);fill-opacity:1;stroke-width:1;stroke-linecap:butt;stroke-linejoin:miter;stroke:rgb(0%,0%,0%);stroke-opacity:1;stroke-miterlimit:10;\" d=\"M 140 75 C 140 80.523438 135.523438 85 130 85 C 124.476562 85 120 80.523438 120 75 C 120 69.476562 124.476562 65 130 65 C 135.523438 65 140 69.476562 140 75 \"/>\n<path style=\"fill-rule:nonzero;fill:rgb(100%,0%,0%);fill-opacity:1;stroke-width:1;stroke-linecap:butt;stroke-linejoin:miter;stroke:rgb(0%,0%,0%);stroke-opacity:1;stroke-miterlimit:10;\" d=\"M 85 130 C 85 135.523438 80.523438 140 75 140 C 69.476562 140 65 135.523438 65 130 C 65 124.476562 69.476562 120 75 120 C 80.523438 120 85 124.476562 85 130 \"/>\n<path style=\"fill-rule:nonzero;fill:rgb(100%,0%,0%);fill-opacity:1;stroke-width:1;stroke-linecap:butt;stroke-linejoin:miter;stroke:rgb(0%,0%,0%);stroke-opacity:1;stroke-miterlimit:10;\" d=\"M 30 75 C 30 80.523438 25.523438 85 20 85 C 14.476562 85 10 80.523438 10 75 C 10 69.476562 14.476562 65 20 65 C 25.523438 65 30 69.476562 30 75 \"/>\n<path style=\"fill-rule:nonzero;fill:rgb(100%,0%,0%);fill-opacity:1;stroke-width:1;stroke-linecap:butt;stroke-linejoin:miter;stroke:rgb(0%,0%,0%);stroke-opacity:1;stroke-miterlimit:10;\" d=\"M 85 20 C 85 25.523438 80.523438 30 75 30 C 69.476562 30 65 25.523438 65 20 C 65 14.476562 69.476562 10 75 10 C 80.523438 10 85 14.476562 85 20 \"/>\n</g>\n</svg>\n"
          },
          "metadata": {
            "image/svg+xml": {
              "isolated": true
            }
          },
          "execution_count": 192
        }
      ]
    },
    {
      "cell_type": "code",
      "source": [
        "print(\"True Intersection\")\n",
        "g2 = ig.Graph.Weighted_Adjacency(W_true_all.tolist())\n",
        "ig.plot(g2, bbox=(0, 0, 150, 150), layout=g2.layout_star())"
      ],
      "metadata": {
        "colab": {
          "base_uri": "https://localhost:8080/",
          "height": 239
        },
        "id": "HANVIz2b9c7Y",
        "outputId": "587484c9-c565-4a89-f4b3-df4672e4738a"
      },
      "execution_count": null,
      "outputs": [
        {
          "output_type": "stream",
          "name": "stdout",
          "text": [
            "True Intersection\n"
          ]
        },
        {
          "output_type": "execute_result",
          "data": {
            "text/plain": [
              "<igraph.drawing.cairo.plot.CairoPlot at 0x79ceb883b100>"
            ],
            "image/svg+xml": "<?xml version=\"1.0\" encoding=\"UTF-8\"?>\n<svg xmlns=\"http://www.w3.org/2000/svg\" xmlns:xlink=\"http://www.w3.org/1999/xlink\" width=\"150pt\" height=\"150pt\" viewBox=\"0 0 150 150\" version=\"1.1\">\n<g id=\"surface476\">\n<rect x=\"0\" y=\"0\" width=\"150\" height=\"150\" style=\"fill:rgb(100%,100%,100%);fill-opacity:1;stroke:none;\"/>\n<path style=\"fill:none;stroke-width:1;stroke-linecap:butt;stroke-linejoin:miter;stroke:rgb(26.666667%,26.666667%,26.666667%);stroke-opacity:1;stroke-miterlimit:10;\" d=\"M 75 75 L 44.265625 75 \"/>\n<path style=\" stroke:none;fill-rule:nonzero;fill:rgb(26.666667%,26.666667%,26.666667%);fill-opacity:1;\" d=\"M 30 75 L 44.265625 70.363281 L 44.265625 79.636719 L 30 75 \"/>\n<path style=\"fill-rule:nonzero;fill:rgb(100%,0%,0%);fill-opacity:1;stroke-width:1;stroke-linecap:butt;stroke-linejoin:miter;stroke:rgb(0%,0%,0%);stroke-opacity:1;stroke-miterlimit:10;\" d=\"M 85 75 C 85 80.523438 80.523438 85 75 85 C 69.476562 85 65 80.523438 65 75 C 65 69.476562 69.476562 65 75 65 C 80.523438 65 85 69.476562 85 75 \"/>\n<path style=\"fill-rule:nonzero;fill:rgb(100%,0%,0%);fill-opacity:1;stroke-width:1;stroke-linecap:butt;stroke-linejoin:miter;stroke:rgb(0%,0%,0%);stroke-opacity:1;stroke-miterlimit:10;\" d=\"M 140 75 C 140 80.523438 135.523438 85 130 85 C 124.476562 85 120 80.523438 120 75 C 120 69.476562 124.476562 65 130 65 C 135.523438 65 140 69.476562 140 75 \"/>\n<path style=\"fill-rule:nonzero;fill:rgb(100%,0%,0%);fill-opacity:1;stroke-width:1;stroke-linecap:butt;stroke-linejoin:miter;stroke:rgb(0%,0%,0%);stroke-opacity:1;stroke-miterlimit:10;\" d=\"M 85 130 C 85 135.523438 80.523438 140 75 140 C 69.476562 140 65 135.523438 65 130 C 65 124.476562 69.476562 120 75 120 C 80.523438 120 85 124.476562 85 130 \"/>\n<path style=\"fill-rule:nonzero;fill:rgb(100%,0%,0%);fill-opacity:1;stroke-width:1;stroke-linecap:butt;stroke-linejoin:miter;stroke:rgb(0%,0%,0%);stroke-opacity:1;stroke-miterlimit:10;\" d=\"M 30 75 C 30 80.523438 25.523438 85 20 85 C 14.476562 85 10 80.523438 10 75 C 10 69.476562 14.476562 65 20 65 C 25.523438 65 30 69.476562 30 75 \"/>\n<path style=\"fill-rule:nonzero;fill:rgb(100%,0%,0%);fill-opacity:1;stroke-width:1;stroke-linecap:butt;stroke-linejoin:miter;stroke:rgb(0%,0%,0%);stroke-opacity:1;stroke-miterlimit:10;\" d=\"M 85 20 C 85 25.523438 80.523438 30 75 30 C 69.476562 30 65 25.523438 65 20 C 65 14.476562 69.476562 10 75 10 C 80.523438 10 85 14.476562 85 20 \"/>\n</g>\n</svg>\n"
          },
          "metadata": {
            "image/svg+xml": {
              "isolated": true
            }
          },
          "execution_count": 193
        }
      ]
    },
    {
      "cell_type": "code",
      "source": [
        "print(\"Intersection of Learned DAGs\")\n",
        "g2 = ig.Graph.Weighted_Adjacency(W_est_intersect.tolist())\n",
        "ig.plot(g2, bbox=(0, 0, 150, 150), layout=g2.layout_star())"
      ],
      "metadata": {
        "colab": {
          "base_uri": "https://localhost:8080/",
          "height": 239
        },
        "id": "4OMWg9in8-Y6",
        "outputId": "a4208017-d2b4-4504-e99f-1618b3504bd6"
      },
      "execution_count": null,
      "outputs": [
        {
          "output_type": "stream",
          "name": "stdout",
          "text": [
            "Intersection of Learned DAGs\n"
          ]
        },
        {
          "output_type": "execute_result",
          "data": {
            "text/plain": [
              "<igraph.drawing.cairo.plot.CairoPlot at 0x79ceb8838e20>"
            ],
            "image/svg+xml": "<?xml version=\"1.0\" encoding=\"UTF-8\"?>\n<svg xmlns=\"http://www.w3.org/2000/svg\" xmlns:xlink=\"http://www.w3.org/1999/xlink\" width=\"150pt\" height=\"150pt\" viewBox=\"0 0 150 150\" version=\"1.1\">\n<g id=\"surface482\">\n<rect x=\"0\" y=\"0\" width=\"150\" height=\"150\" style=\"fill:rgb(100%,100%,100%);fill-opacity:1;stroke:none;\"/>\n<path style=\"fill:none;stroke-width:1;stroke-linecap:butt;stroke-linejoin:miter;stroke:rgb(26.666667%,26.666667%,26.666667%);stroke-opacity:1;stroke-miterlimit:10;\" d=\"M 75 75 L 44.265625 75 \"/>\n<path style=\" stroke:none;fill-rule:nonzero;fill:rgb(26.666667%,26.666667%,26.666667%);fill-opacity:1;\" d=\"M 30 75 L 44.265625 70.363281 L 44.265625 79.636719 L 30 75 \"/>\n<path style=\"fill-rule:nonzero;fill:rgb(100%,0%,0%);fill-opacity:1;stroke-width:1;stroke-linecap:butt;stroke-linejoin:miter;stroke:rgb(0%,0%,0%);stroke-opacity:1;stroke-miterlimit:10;\" d=\"M 85 75 C 85 80.523438 80.523438 85 75 85 C 69.476562 85 65 80.523438 65 75 C 65 69.476562 69.476562 65 75 65 C 80.523438 65 85 69.476562 85 75 \"/>\n<path style=\"fill-rule:nonzero;fill:rgb(100%,0%,0%);fill-opacity:1;stroke-width:1;stroke-linecap:butt;stroke-linejoin:miter;stroke:rgb(0%,0%,0%);stroke-opacity:1;stroke-miterlimit:10;\" d=\"M 140 75 C 140 80.523438 135.523438 85 130 85 C 124.476562 85 120 80.523438 120 75 C 120 69.476562 124.476562 65 130 65 C 135.523438 65 140 69.476562 140 75 \"/>\n<path style=\"fill-rule:nonzero;fill:rgb(100%,0%,0%);fill-opacity:1;stroke-width:1;stroke-linecap:butt;stroke-linejoin:miter;stroke:rgb(0%,0%,0%);stroke-opacity:1;stroke-miterlimit:10;\" d=\"M 85 130 C 85 135.523438 80.523438 140 75 140 C 69.476562 140 65 135.523438 65 130 C 65 124.476562 69.476562 120 75 120 C 80.523438 120 85 124.476562 85 130 \"/>\n<path style=\"fill-rule:nonzero;fill:rgb(100%,0%,0%);fill-opacity:1;stroke-width:1;stroke-linecap:butt;stroke-linejoin:miter;stroke:rgb(0%,0%,0%);stroke-opacity:1;stroke-miterlimit:10;\" d=\"M 30 75 C 30 80.523438 25.523438 85 20 85 C 14.476562 85 10 80.523438 10 75 C 10 69.476562 14.476562 65 20 65 C 25.523438 65 30 69.476562 30 75 \"/>\n<path style=\"fill-rule:nonzero;fill:rgb(100%,0%,0%);fill-opacity:1;stroke-width:1;stroke-linecap:butt;stroke-linejoin:miter;stroke:rgb(0%,0%,0%);stroke-opacity:1;stroke-miterlimit:10;\" d=\"M 85 20 C 85 25.523438 80.523438 30 75 30 C 69.476562 30 65 25.523438 65 20 C 65 14.476562 69.476562 10 75 10 C 80.523438 10 85 14.476562 85 20 \"/>\n</g>\n</svg>\n"
          },
          "metadata": {
            "image/svg+xml": {
              "isolated": true
            }
          },
          "execution_count": 194
        }
      ]
    },
    {
      "cell_type": "code",
      "source": [
        "print(\"Learned DAG NOTEARS\")\n",
        "g2 = ig.Graph.Weighted_Adjacency(W_est_all.tolist())\n",
        "ig.plot(g2, bbox=(0, 0, 150, 150), layout=g2.layout_star())"
      ],
      "metadata": {
        "colab": {
          "base_uri": "https://localhost:8080/",
          "height": 239
        },
        "id": "YN8r1WXt6C2Z",
        "outputId": "14df4f1a-eac7-422d-eadb-525d18a26b70"
      },
      "execution_count": null,
      "outputs": [
        {
          "output_type": "stream",
          "name": "stdout",
          "text": [
            "Learned DAG NOTEARS\n"
          ]
        },
        {
          "output_type": "execute_result",
          "data": {
            "text/plain": [
              "<igraph.drawing.cairo.plot.CairoPlot at 0x79ceb8838d90>"
            ],
            "image/svg+xml": "<?xml version=\"1.0\" encoding=\"UTF-8\"?>\n<svg xmlns=\"http://www.w3.org/2000/svg\" xmlns:xlink=\"http://www.w3.org/1999/xlink\" width=\"150pt\" height=\"150pt\" viewBox=\"0 0 150 150\" version=\"1.1\">\n<g id=\"surface488\">\n<rect x=\"0\" y=\"0\" width=\"150\" height=\"150\" style=\"fill:rgb(100%,100%,100%);fill-opacity:1;stroke:none;\"/>\n<path style=\"fill:none;stroke-width:1;stroke-linecap:butt;stroke-linejoin:miter;stroke:rgb(26.666667%,26.666667%,26.666667%);stroke-opacity:1;stroke-miterlimit:10;\" d=\"M 75 75 L 105.734375 75 \"/>\n<path style=\" stroke:none;fill-rule:nonzero;fill:rgb(26.666667%,26.666667%,26.666667%);fill-opacity:1;\" d=\"M 120 75 L 105.734375 79.636719 L 105.734375 70.363281 L 120 75 \"/>\n<path style=\"fill:none;stroke-width:1;stroke-linecap:butt;stroke-linejoin:miter;stroke:rgb(26.666667%,26.666667%,26.666667%);stroke-opacity:1;stroke-miterlimit:10;\" d=\"M 75 75 L 75 44.265625 \"/>\n<path style=\" stroke:none;fill-rule:nonzero;fill:rgb(26.666667%,26.666667%,26.666667%);fill-opacity:1;\" d=\"M 75 30 L 79.636719 44.265625 L 70.363281 44.265625 L 75 30 \"/>\n<path style=\"fill:none;stroke-width:1;stroke-linecap:butt;stroke-linejoin:miter;stroke:rgb(26.666667%,26.666667%,26.666667%);stroke-opacity:1;stroke-miterlimit:10;\" d=\"M 130 75 L 44.265625 75 \"/>\n<path style=\" stroke:none;fill-rule:nonzero;fill:rgb(26.666667%,26.666667%,26.666667%);fill-opacity:1;\" d=\"M 30 75 L 44.265625 70.363281 L 44.265625 79.636719 L 30 75 \"/>\n<path style=\"fill:none;stroke-width:1;stroke-linecap:butt;stroke-linejoin:miter;stroke:rgb(26.666667%,26.666667%,26.666667%);stroke-opacity:1;stroke-miterlimit:10;\" d=\"M 75 130 L 112.839844 92.160156 \"/>\n<path style=\" stroke:none;fill-rule:nonzero;fill:rgb(26.666667%,26.666667%,26.666667%);fill-opacity:1;\" d=\"M 122.929688 82.070312 L 116.117188 95.4375 L 109.5625 88.882812 L 122.929688 82.070312 \"/>\n<path style=\"fill-rule:nonzero;fill:rgb(100%,0%,0%);fill-opacity:1;stroke-width:1;stroke-linecap:butt;stroke-linejoin:miter;stroke:rgb(0%,0%,0%);stroke-opacity:1;stroke-miterlimit:10;\" d=\"M 85 75 C 85 80.523438 80.523438 85 75 85 C 69.476562 85 65 80.523438 65 75 C 65 69.476562 69.476562 65 75 65 C 80.523438 65 85 69.476562 85 75 \"/>\n<path style=\"fill-rule:nonzero;fill:rgb(100%,0%,0%);fill-opacity:1;stroke-width:1;stroke-linecap:butt;stroke-linejoin:miter;stroke:rgb(0%,0%,0%);stroke-opacity:1;stroke-miterlimit:10;\" d=\"M 140 75 C 140 80.523438 135.523438 85 130 85 C 124.476562 85 120 80.523438 120 75 C 120 69.476562 124.476562 65 130 65 C 135.523438 65 140 69.476562 140 75 \"/>\n<path style=\"fill-rule:nonzero;fill:rgb(100%,0%,0%);fill-opacity:1;stroke-width:1;stroke-linecap:butt;stroke-linejoin:miter;stroke:rgb(0%,0%,0%);stroke-opacity:1;stroke-miterlimit:10;\" d=\"M 85 130 C 85 135.523438 80.523438 140 75 140 C 69.476562 140 65 135.523438 65 130 C 65 124.476562 69.476562 120 75 120 C 80.523438 120 85 124.476562 85 130 \"/>\n<path style=\"fill-rule:nonzero;fill:rgb(100%,0%,0%);fill-opacity:1;stroke-width:1;stroke-linecap:butt;stroke-linejoin:miter;stroke:rgb(0%,0%,0%);stroke-opacity:1;stroke-miterlimit:10;\" d=\"M 30 75 C 30 80.523438 25.523438 85 20 85 C 14.476562 85 10 80.523438 10 75 C 10 69.476562 14.476562 65 20 65 C 25.523438 65 30 69.476562 30 75 \"/>\n<path style=\"fill-rule:nonzero;fill:rgb(100%,0%,0%);fill-opacity:1;stroke-width:1;stroke-linecap:butt;stroke-linejoin:miter;stroke:rgb(0%,0%,0%);stroke-opacity:1;stroke-miterlimit:10;\" d=\"M 85 20 C 85 25.523438 80.523438 30 75 30 C 69.476562 30 65 25.523438 65 20 C 65 14.476562 69.476562 10 75 10 C 80.523438 10 85 14.476562 85 20 \"/>\n</g>\n</svg>\n"
          },
          "metadata": {
            "image/svg+xml": {
              "isolated": true
            }
          },
          "execution_count": 195
        }
      ]
    },
    {
      "cell_type": "markdown",
      "source": [
        "# Vincent's experiments"
      ],
      "metadata": {
        "id": "zDdfwUh43lhZ"
      }
    },
    {
      "cell_type": "code",
      "source": [
        "from sklearn.mixture import GaussianMixture\n",
        "from tqdm import tqdm\n",
        "\n",
        "N_ITERS = 10\n",
        "\n",
        "# Number of samples for each distribution\n",
        "n1 = 250\n",
        "n2 = 250\n",
        "\n",
        "# d: number of nodes\n",
        "# s0: number of edges\n",
        "d, s0, graph_type, sem_type = 30, 15, 'ER', 'gauss'\n",
        "# d, s0, graph_type, sem_type = 30, 10, 'ER', 'uniform'\n",
        "\n",
        "results = []\n",
        "\n",
        "for _ in tqdm(range(N_ITERS)):\n",
        "  # We want a graph where the intersection of the edges is non-empty\n",
        "  cond = True\n",
        "  while cond:\n",
        "    # Generate graph 1 and n1 samples from it\n",
        "    B_true1 = simulate_dag(d, s0, graph_type)\n",
        "    W_true1 = simulate_parameter(B_true1)\n",
        "    np.savetxt('W_true1.csv', W_true1, delimiter=',')\n",
        "    X1 = simulate_linear_sem(W_true1, n1, sem_type)\n",
        "    # X1 = simulate_nonlinear_sem(B_true1, n1, 'gp-add')\n",
        "\n",
        "    # Generate graph 2 and n2 samples from it\n",
        "    B_true2 = simulate_dag(d, s0, graph_type)\n",
        "    W_true2 = simulate_parameter(B_true2)\n",
        "    np.savetxt('W_true1.csv', W_true2, delimiter=',')\n",
        "    X2 = simulate_linear_sem(W_true2, n2, sem_type)\n",
        "    # X2 = simulate_nonlinear_sem(B_true2, n2, 'gp-add')\n",
        "\n",
        "    W_true_all = intersection_of_dags(W_true1, W_true2)\n",
        "\n",
        "    if W_true_all.any():\n",
        "      cond = False\n",
        "\n",
        "  # Merge the samples\n",
        "  X = np.concatenate([X1, X2])[np.random.shuffle(np.arange(n1+n2))][0]\n",
        "  # Train Gaussian Mixture Model to split back the dataset into two distributions\n",
        "  GMM = GaussianMixture(n_components=2, covariance_type=\"full\", max_iter=1000)\n",
        "  GMM.fit(X)\n",
        "\n",
        "  # Split back the dataset into two\n",
        "  preds = GMM.predict(X)\n",
        "  X_est1 = X[preds == 0]\n",
        "  X_est2 = X[preds == 1]\n",
        "\n",
        "  # Learn two graphs\n",
        "  W_est1 = notears_linear(X_est1, lambda1=0.1, loss_type='l2', w_threshold=0.3)\n",
        "  W_est2 = notears_linear(X_est2, lambda1=0.1, loss_type='l2', w_threshold=0.3)\n",
        "\n",
        "  W_est_intersect = intersection_of_dags(W_est1, W_est2)\n",
        "  W_est_all = notears_linear(X, lambda1=0.1, loss_type='l2', w_threshold=0.3)\n",
        "\n",
        "  # Get metric\n",
        "  correct1 = 0\n",
        "  for x in X_est1:\n",
        "    if x in X1:\n",
        "      correct1 += 1\n",
        "  for x in X_est2:\n",
        "    if x in X2:\n",
        "      correct1 += 1\n",
        "\n",
        "  correct2 = 0\n",
        "  for x in X_est2:\n",
        "    if x in X1:\n",
        "      correct2 += 1\n",
        "  for x in X_est1:\n",
        "    if x in X2:\n",
        "      correct2 += 1\n",
        "  correct = max(correct1, correct2)/(n1+n2)\n",
        "\n",
        "  notears_extra = np.sum(np.logical_and(W_est_all, np.logical_not(W_true_all)))\n",
        "  notears_missing = np.sum(np.logical_and(W_true_all, np.logical_not(W_est_all)))\n",
        "  gmm_extra = np.sum(np.logical_and(W_est_intersect, np.logical_not(W_true_all)))\n",
        "  gmm_missing = np.sum(np.logical_and(W_true_all, np.logical_not(W_est_intersect)))\n",
        "\n",
        "  results.append([correct, notears_extra, notears_missing, gmm_extra, gmm_missing])\n",
        "\n",
        "results = np.array(results)"
      ],
      "metadata": {
        "colab": {
          "base_uri": "https://localhost:8080/",
          "height": 382
        },
        "id": "AO_B2wr53u3N",
        "outputId": "b4ec9abd-53ee-44e1-b05f-86a9c671f91f"
      },
      "execution_count": null,
      "outputs": [
        {
          "output_type": "stream",
          "name": "stderr",
          "text": [
            "  0%|          | 0/10 [01:08<?, ?it/s]\n"
          ]
        },
        {
          "output_type": "error",
          "ename": "KeyboardInterrupt",
          "evalue": "",
          "traceback": [
            "\u001b[0;31m---------------------------------------------------------------------------\u001b[0m",
            "\u001b[0;31mKeyboardInterrupt\u001b[0m                         Traceback (most recent call last)",
            "\u001b[0;32m<ipython-input-209-27d554ea826a>\u001b[0m in \u001b[0;36m<cell line: 17>\u001b[0;34m()\u001b[0m\n\u001b[1;32m     54\u001b[0m \u001b[0;34m\u001b[0m\u001b[0m\n\u001b[1;32m     55\u001b[0m   \u001b[0mW_est_intersect\u001b[0m \u001b[0;34m=\u001b[0m \u001b[0mintersection_of_dags\u001b[0m\u001b[0;34m(\u001b[0m\u001b[0mW_est1\u001b[0m\u001b[0;34m,\u001b[0m \u001b[0mW_est2\u001b[0m\u001b[0;34m)\u001b[0m\u001b[0;34m\u001b[0m\u001b[0;34m\u001b[0m\u001b[0m\n\u001b[0;32m---> 56\u001b[0;31m   \u001b[0mW_est_all\u001b[0m \u001b[0;34m=\u001b[0m \u001b[0mnotears_linear\u001b[0m\u001b[0;34m(\u001b[0m\u001b[0mX\u001b[0m\u001b[0;34m,\u001b[0m \u001b[0mlambda1\u001b[0m\u001b[0;34m=\u001b[0m\u001b[0;36m0.1\u001b[0m\u001b[0;34m,\u001b[0m \u001b[0mloss_type\u001b[0m\u001b[0;34m=\u001b[0m\u001b[0;34m'l2'\u001b[0m\u001b[0;34m,\u001b[0m \u001b[0mw_threshold\u001b[0m\u001b[0;34m=\u001b[0m\u001b[0;36m0.3\u001b[0m\u001b[0;34m)\u001b[0m\u001b[0;34m\u001b[0m\u001b[0;34m\u001b[0m\u001b[0m\n\u001b[0m\u001b[1;32m     57\u001b[0m \u001b[0;34m\u001b[0m\u001b[0m\n\u001b[1;32m     58\u001b[0m   \u001b[0;31m# Get metric\u001b[0m\u001b[0;34m\u001b[0m\u001b[0;34m\u001b[0m\u001b[0m\n",
            "\u001b[0;32m<ipython-input-167-3b2e4e31df29>\u001b[0m in \u001b[0;36mnotears_linear\u001b[0;34m(X, lambda1, loss_type, max_iter, h_tol, rho_max, w_threshold)\u001b[0m\n\u001b[1;32m     71\u001b[0m         \u001b[0mw_new\u001b[0m\u001b[0;34m,\u001b[0m \u001b[0mh_new\u001b[0m \u001b[0;34m=\u001b[0m \u001b[0;32mNone\u001b[0m\u001b[0;34m,\u001b[0m \u001b[0;32mNone\u001b[0m\u001b[0;34m\u001b[0m\u001b[0;34m\u001b[0m\u001b[0m\n\u001b[1;32m     72\u001b[0m         \u001b[0;32mwhile\u001b[0m \u001b[0mrho\u001b[0m \u001b[0;34m<\u001b[0m \u001b[0mrho_max\u001b[0m\u001b[0;34m:\u001b[0m\u001b[0;34m\u001b[0m\u001b[0;34m\u001b[0m\u001b[0m\n\u001b[0;32m---> 73\u001b[0;31m             \u001b[0msol\u001b[0m \u001b[0;34m=\u001b[0m \u001b[0msopt\u001b[0m\u001b[0;34m.\u001b[0m\u001b[0mminimize\u001b[0m\u001b[0;34m(\u001b[0m\u001b[0m_func\u001b[0m\u001b[0;34m,\u001b[0m \u001b[0mw_est\u001b[0m\u001b[0;34m,\u001b[0m \u001b[0mmethod\u001b[0m\u001b[0;34m=\u001b[0m\u001b[0;34m'L-BFGS-B'\u001b[0m\u001b[0;34m,\u001b[0m \u001b[0mjac\u001b[0m\u001b[0;34m=\u001b[0m\u001b[0;32mTrue\u001b[0m\u001b[0;34m,\u001b[0m \u001b[0mbounds\u001b[0m\u001b[0;34m=\u001b[0m\u001b[0mbnds\u001b[0m\u001b[0;34m)\u001b[0m\u001b[0;34m\u001b[0m\u001b[0;34m\u001b[0m\u001b[0m\n\u001b[0m\u001b[1;32m     74\u001b[0m             \u001b[0mw_new\u001b[0m \u001b[0;34m=\u001b[0m \u001b[0msol\u001b[0m\u001b[0;34m.\u001b[0m\u001b[0mx\u001b[0m\u001b[0;34m\u001b[0m\u001b[0;34m\u001b[0m\u001b[0m\n\u001b[1;32m     75\u001b[0m             \u001b[0mh_new\u001b[0m\u001b[0;34m,\u001b[0m \u001b[0m_\u001b[0m \u001b[0;34m=\u001b[0m \u001b[0m_h\u001b[0m\u001b[0;34m(\u001b[0m\u001b[0m_adj\u001b[0m\u001b[0;34m(\u001b[0m\u001b[0mw_new\u001b[0m\u001b[0;34m)\u001b[0m\u001b[0;34m)\u001b[0m\u001b[0;34m\u001b[0m\u001b[0;34m\u001b[0m\u001b[0m\n",
            "\u001b[0;32m/usr/local/lib/python3.10/dist-packages/scipy/optimize/_minimize.py\u001b[0m in \u001b[0;36mminimize\u001b[0;34m(fun, x0, args, method, jac, hess, hessp, bounds, constraints, tol, callback, options)\u001b[0m\n\u001b[1;32m    711\u001b[0m                                  **options)\n\u001b[1;32m    712\u001b[0m     \u001b[0;32melif\u001b[0m \u001b[0mmeth\u001b[0m \u001b[0;34m==\u001b[0m \u001b[0;34m'l-bfgs-b'\u001b[0m\u001b[0;34m:\u001b[0m\u001b[0;34m\u001b[0m\u001b[0;34m\u001b[0m\u001b[0m\n\u001b[0;32m--> 713\u001b[0;31m         res = _minimize_lbfgsb(fun, x0, args, jac, bounds,\n\u001b[0m\u001b[1;32m    714\u001b[0m                                callback=callback, **options)\n\u001b[1;32m    715\u001b[0m     \u001b[0;32melif\u001b[0m \u001b[0mmeth\u001b[0m \u001b[0;34m==\u001b[0m \u001b[0;34m'tnc'\u001b[0m\u001b[0;34m:\u001b[0m\u001b[0;34m\u001b[0m\u001b[0;34m\u001b[0m\u001b[0m\n",
            "\u001b[0;32m/usr/local/lib/python3.10/dist-packages/scipy/optimize/_lbfgsb_py.py\u001b[0m in \u001b[0;36m_minimize_lbfgsb\u001b[0;34m(fun, x0, args, jac, bounds, disp, maxcor, ftol, gtol, eps, maxfun, maxiter, iprint, callback, maxls, finite_diff_rel_step, **unknown_options)\u001b[0m\n\u001b[1;32m    405\u001b[0m             \u001b[0;31m# until the completion of the current minimization iteration.\u001b[0m\u001b[0;34m\u001b[0m\u001b[0;34m\u001b[0m\u001b[0m\n\u001b[1;32m    406\u001b[0m             \u001b[0;31m# Overwrite f and g:\u001b[0m\u001b[0;34m\u001b[0m\u001b[0;34m\u001b[0m\u001b[0m\n\u001b[0;32m--> 407\u001b[0;31m             \u001b[0mf\u001b[0m\u001b[0;34m,\u001b[0m \u001b[0mg\u001b[0m \u001b[0;34m=\u001b[0m \u001b[0mfunc_and_grad\u001b[0m\u001b[0;34m(\u001b[0m\u001b[0mx\u001b[0m\u001b[0;34m)\u001b[0m\u001b[0;34m\u001b[0m\u001b[0;34m\u001b[0m\u001b[0m\n\u001b[0m\u001b[1;32m    408\u001b[0m         \u001b[0;32melif\u001b[0m \u001b[0mtask_str\u001b[0m\u001b[0;34m.\u001b[0m\u001b[0mstartswith\u001b[0m\u001b[0;34m(\u001b[0m\u001b[0;34mb'NEW_X'\u001b[0m\u001b[0;34m)\u001b[0m\u001b[0;34m:\u001b[0m\u001b[0;34m\u001b[0m\u001b[0;34m\u001b[0m\u001b[0m\n\u001b[1;32m    409\u001b[0m             \u001b[0;31m# new iteration\u001b[0m\u001b[0;34m\u001b[0m\u001b[0;34m\u001b[0m\u001b[0m\n",
            "\u001b[0;32m/usr/local/lib/python3.10/dist-packages/scipy/optimize/_differentiable_functions.py\u001b[0m in \u001b[0;36mfun_and_grad\u001b[0;34m(self, x)\u001b[0m\n\u001b[1;32m    294\u001b[0m         \u001b[0;32mif\u001b[0m \u001b[0;32mnot\u001b[0m \u001b[0mnp\u001b[0m\u001b[0;34m.\u001b[0m\u001b[0marray_equal\u001b[0m\u001b[0;34m(\u001b[0m\u001b[0mx\u001b[0m\u001b[0;34m,\u001b[0m \u001b[0mself\u001b[0m\u001b[0;34m.\u001b[0m\u001b[0mx\u001b[0m\u001b[0;34m)\u001b[0m\u001b[0;34m:\u001b[0m\u001b[0;34m\u001b[0m\u001b[0;34m\u001b[0m\u001b[0m\n\u001b[1;32m    295\u001b[0m             \u001b[0mself\u001b[0m\u001b[0;34m.\u001b[0m\u001b[0m_update_x_impl\u001b[0m\u001b[0;34m(\u001b[0m\u001b[0mx\u001b[0m\u001b[0;34m)\u001b[0m\u001b[0;34m\u001b[0m\u001b[0;34m\u001b[0m\u001b[0m\n\u001b[0;32m--> 296\u001b[0;31m         \u001b[0mself\u001b[0m\u001b[0;34m.\u001b[0m\u001b[0m_update_fun\u001b[0m\u001b[0;34m(\u001b[0m\u001b[0;34m)\u001b[0m\u001b[0;34m\u001b[0m\u001b[0;34m\u001b[0m\u001b[0m\n\u001b[0m\u001b[1;32m    297\u001b[0m         \u001b[0mself\u001b[0m\u001b[0;34m.\u001b[0m\u001b[0m_update_grad\u001b[0m\u001b[0;34m(\u001b[0m\u001b[0;34m)\u001b[0m\u001b[0;34m\u001b[0m\u001b[0;34m\u001b[0m\u001b[0m\n\u001b[1;32m    298\u001b[0m         \u001b[0;32mreturn\u001b[0m \u001b[0mself\u001b[0m\u001b[0;34m.\u001b[0m\u001b[0mf\u001b[0m\u001b[0;34m,\u001b[0m \u001b[0mself\u001b[0m\u001b[0;34m.\u001b[0m\u001b[0mg\u001b[0m\u001b[0;34m\u001b[0m\u001b[0;34m\u001b[0m\u001b[0m\n",
            "\u001b[0;32m/usr/local/lib/python3.10/dist-packages/scipy/optimize/_differentiable_functions.py\u001b[0m in \u001b[0;36m_update_fun\u001b[0;34m(self)\u001b[0m\n\u001b[1;32m    260\u001b[0m     \u001b[0;32mdef\u001b[0m \u001b[0m_update_fun\u001b[0m\u001b[0;34m(\u001b[0m\u001b[0mself\u001b[0m\u001b[0;34m)\u001b[0m\u001b[0;34m:\u001b[0m\u001b[0;34m\u001b[0m\u001b[0;34m\u001b[0m\u001b[0m\n\u001b[1;32m    261\u001b[0m         \u001b[0;32mif\u001b[0m \u001b[0;32mnot\u001b[0m \u001b[0mself\u001b[0m\u001b[0;34m.\u001b[0m\u001b[0mf_updated\u001b[0m\u001b[0;34m:\u001b[0m\u001b[0;34m\u001b[0m\u001b[0;34m\u001b[0m\u001b[0m\n\u001b[0;32m--> 262\u001b[0;31m             \u001b[0mself\u001b[0m\u001b[0;34m.\u001b[0m\u001b[0m_update_fun_impl\u001b[0m\u001b[0;34m(\u001b[0m\u001b[0;34m)\u001b[0m\u001b[0;34m\u001b[0m\u001b[0;34m\u001b[0m\u001b[0m\n\u001b[0m\u001b[1;32m    263\u001b[0m             \u001b[0mself\u001b[0m\u001b[0;34m.\u001b[0m\u001b[0mf_updated\u001b[0m \u001b[0;34m=\u001b[0m \u001b[0;32mTrue\u001b[0m\u001b[0;34m\u001b[0m\u001b[0;34m\u001b[0m\u001b[0m\n\u001b[1;32m    264\u001b[0m \u001b[0;34m\u001b[0m\u001b[0m\n",
            "\u001b[0;32m/usr/local/lib/python3.10/dist-packages/scipy/optimize/_differentiable_functions.py\u001b[0m in \u001b[0;36mupdate_fun\u001b[0;34m()\u001b[0m\n\u001b[1;32m    161\u001b[0m \u001b[0;34m\u001b[0m\u001b[0m\n\u001b[1;32m    162\u001b[0m         \u001b[0;32mdef\u001b[0m \u001b[0mupdate_fun\u001b[0m\u001b[0;34m(\u001b[0m\u001b[0;34m)\u001b[0m\u001b[0;34m:\u001b[0m\u001b[0;34m\u001b[0m\u001b[0;34m\u001b[0m\u001b[0m\n\u001b[0;32m--> 163\u001b[0;31m             \u001b[0mself\u001b[0m\u001b[0;34m.\u001b[0m\u001b[0mf\u001b[0m \u001b[0;34m=\u001b[0m \u001b[0mfun_wrapped\u001b[0m\u001b[0;34m(\u001b[0m\u001b[0mself\u001b[0m\u001b[0;34m.\u001b[0m\u001b[0mx\u001b[0m\u001b[0;34m)\u001b[0m\u001b[0;34m\u001b[0m\u001b[0;34m\u001b[0m\u001b[0m\n\u001b[0m\u001b[1;32m    164\u001b[0m \u001b[0;34m\u001b[0m\u001b[0m\n\u001b[1;32m    165\u001b[0m         \u001b[0mself\u001b[0m\u001b[0;34m.\u001b[0m\u001b[0m_update_fun_impl\u001b[0m \u001b[0;34m=\u001b[0m \u001b[0mupdate_fun\u001b[0m\u001b[0;34m\u001b[0m\u001b[0;34m\u001b[0m\u001b[0m\n",
            "\u001b[0;32m/usr/local/lib/python3.10/dist-packages/scipy/optimize/_differentiable_functions.py\u001b[0m in \u001b[0;36mfun_wrapped\u001b[0;34m(x)\u001b[0m\n\u001b[1;32m    143\u001b[0m             \u001b[0;31m# Overwriting results in undefined behaviour because\u001b[0m\u001b[0;34m\u001b[0m\u001b[0;34m\u001b[0m\u001b[0m\n\u001b[1;32m    144\u001b[0m             \u001b[0;31m# fun(self.x) will change self.x, with the two no longer linked.\u001b[0m\u001b[0;34m\u001b[0m\u001b[0;34m\u001b[0m\u001b[0m\n\u001b[0;32m--> 145\u001b[0;31m             \u001b[0mfx\u001b[0m \u001b[0;34m=\u001b[0m \u001b[0mfun\u001b[0m\u001b[0;34m(\u001b[0m\u001b[0mnp\u001b[0m\u001b[0;34m.\u001b[0m\u001b[0mcopy\u001b[0m\u001b[0;34m(\u001b[0m\u001b[0mx\u001b[0m\u001b[0;34m)\u001b[0m\u001b[0;34m,\u001b[0m \u001b[0;34m*\u001b[0m\u001b[0margs\u001b[0m\u001b[0;34m)\u001b[0m\u001b[0;34m\u001b[0m\u001b[0;34m\u001b[0m\u001b[0m\n\u001b[0m\u001b[1;32m    146\u001b[0m             \u001b[0;31m# Make sure the function returns a true scalar\u001b[0m\u001b[0;34m\u001b[0m\u001b[0;34m\u001b[0m\u001b[0m\n\u001b[1;32m    147\u001b[0m             \u001b[0;32mif\u001b[0m \u001b[0;32mnot\u001b[0m \u001b[0mnp\u001b[0m\u001b[0;34m.\u001b[0m\u001b[0misscalar\u001b[0m\u001b[0;34m(\u001b[0m\u001b[0mfx\u001b[0m\u001b[0;34m)\u001b[0m\u001b[0;34m:\u001b[0m\u001b[0;34m\u001b[0m\u001b[0;34m\u001b[0m\u001b[0m\n",
            "\u001b[0;32m/usr/local/lib/python3.10/dist-packages/scipy/optimize/_optimize.py\u001b[0m in \u001b[0;36m__call__\u001b[0;34m(self, x, *args)\u001b[0m\n\u001b[1;32m     77\u001b[0m     \u001b[0;32mdef\u001b[0m \u001b[0m__call__\u001b[0m\u001b[0;34m(\u001b[0m\u001b[0mself\u001b[0m\u001b[0;34m,\u001b[0m \u001b[0mx\u001b[0m\u001b[0;34m,\u001b[0m \u001b[0;34m*\u001b[0m\u001b[0margs\u001b[0m\u001b[0;34m)\u001b[0m\u001b[0;34m:\u001b[0m\u001b[0;34m\u001b[0m\u001b[0;34m\u001b[0m\u001b[0m\n\u001b[1;32m     78\u001b[0m         \u001b[0;34m\"\"\" returns the function value \"\"\"\u001b[0m\u001b[0;34m\u001b[0m\u001b[0;34m\u001b[0m\u001b[0m\n\u001b[0;32m---> 79\u001b[0;31m         \u001b[0mself\u001b[0m\u001b[0;34m.\u001b[0m\u001b[0m_compute_if_needed\u001b[0m\u001b[0;34m(\u001b[0m\u001b[0mx\u001b[0m\u001b[0;34m,\u001b[0m \u001b[0;34m*\u001b[0m\u001b[0margs\u001b[0m\u001b[0;34m)\u001b[0m\u001b[0;34m\u001b[0m\u001b[0;34m\u001b[0m\u001b[0m\n\u001b[0m\u001b[1;32m     80\u001b[0m         \u001b[0;32mreturn\u001b[0m \u001b[0mself\u001b[0m\u001b[0;34m.\u001b[0m\u001b[0m_value\u001b[0m\u001b[0;34m\u001b[0m\u001b[0;34m\u001b[0m\u001b[0m\n\u001b[1;32m     81\u001b[0m \u001b[0;34m\u001b[0m\u001b[0m\n",
            "\u001b[0;32m/usr/local/lib/python3.10/dist-packages/scipy/optimize/_optimize.py\u001b[0m in \u001b[0;36m_compute_if_needed\u001b[0;34m(self, x, *args)\u001b[0m\n\u001b[1;32m     71\u001b[0m         \u001b[0;32mif\u001b[0m \u001b[0;32mnot\u001b[0m \u001b[0mnp\u001b[0m\u001b[0;34m.\u001b[0m\u001b[0mall\u001b[0m\u001b[0;34m(\u001b[0m\u001b[0mx\u001b[0m \u001b[0;34m==\u001b[0m \u001b[0mself\u001b[0m\u001b[0;34m.\u001b[0m\u001b[0mx\u001b[0m\u001b[0;34m)\u001b[0m \u001b[0;32mor\u001b[0m \u001b[0mself\u001b[0m\u001b[0;34m.\u001b[0m\u001b[0m_value\u001b[0m \u001b[0;32mis\u001b[0m \u001b[0;32mNone\u001b[0m \u001b[0;32mor\u001b[0m \u001b[0mself\u001b[0m\u001b[0;34m.\u001b[0m\u001b[0mjac\u001b[0m \u001b[0;32mis\u001b[0m \u001b[0;32mNone\u001b[0m\u001b[0;34m:\u001b[0m\u001b[0;34m\u001b[0m\u001b[0;34m\u001b[0m\u001b[0m\n\u001b[1;32m     72\u001b[0m             \u001b[0mself\u001b[0m\u001b[0;34m.\u001b[0m\u001b[0mx\u001b[0m \u001b[0;34m=\u001b[0m \u001b[0mnp\u001b[0m\u001b[0;34m.\u001b[0m\u001b[0masarray\u001b[0m\u001b[0;34m(\u001b[0m\u001b[0mx\u001b[0m\u001b[0;34m)\u001b[0m\u001b[0;34m.\u001b[0m\u001b[0mcopy\u001b[0m\u001b[0;34m(\u001b[0m\u001b[0;34m)\u001b[0m\u001b[0;34m\u001b[0m\u001b[0;34m\u001b[0m\u001b[0m\n\u001b[0;32m---> 73\u001b[0;31m             \u001b[0mfg\u001b[0m \u001b[0;34m=\u001b[0m \u001b[0mself\u001b[0m\u001b[0;34m.\u001b[0m\u001b[0mfun\u001b[0m\u001b[0;34m(\u001b[0m\u001b[0mx\u001b[0m\u001b[0;34m,\u001b[0m \u001b[0;34m*\u001b[0m\u001b[0margs\u001b[0m\u001b[0;34m)\u001b[0m\u001b[0;34m\u001b[0m\u001b[0;34m\u001b[0m\u001b[0m\n\u001b[0m\u001b[1;32m     74\u001b[0m             \u001b[0mself\u001b[0m\u001b[0;34m.\u001b[0m\u001b[0mjac\u001b[0m \u001b[0;34m=\u001b[0m \u001b[0mfg\u001b[0m\u001b[0;34m[\u001b[0m\u001b[0;36m1\u001b[0m\u001b[0;34m]\u001b[0m\u001b[0;34m\u001b[0m\u001b[0;34m\u001b[0m\u001b[0m\n\u001b[1;32m     75\u001b[0m             \u001b[0mself\u001b[0m\u001b[0;34m.\u001b[0m\u001b[0m_value\u001b[0m \u001b[0;34m=\u001b[0m \u001b[0mfg\u001b[0m\u001b[0;34m[\u001b[0m\u001b[0;36m0\u001b[0m\u001b[0;34m]\u001b[0m\u001b[0;34m\u001b[0m\u001b[0;34m\u001b[0m\u001b[0m\n",
            "\u001b[0;32m<ipython-input-167-3b2e4e31df29>\u001b[0m in \u001b[0;36m_func\u001b[0;34m(w)\u001b[0m\n\u001b[1;32m     57\u001b[0m         \u001b[0mW\u001b[0m \u001b[0;34m=\u001b[0m \u001b[0m_adj\u001b[0m\u001b[0;34m(\u001b[0m\u001b[0mw\u001b[0m\u001b[0;34m)\u001b[0m\u001b[0;34m\u001b[0m\u001b[0;34m\u001b[0m\u001b[0m\n\u001b[1;32m     58\u001b[0m         \u001b[0mloss\u001b[0m\u001b[0;34m,\u001b[0m \u001b[0mG_loss\u001b[0m \u001b[0;34m=\u001b[0m \u001b[0m_loss\u001b[0m\u001b[0;34m(\u001b[0m\u001b[0mW\u001b[0m\u001b[0;34m)\u001b[0m\u001b[0;34m\u001b[0m\u001b[0;34m\u001b[0m\u001b[0m\n\u001b[0;32m---> 59\u001b[0;31m         \u001b[0mh\u001b[0m\u001b[0;34m,\u001b[0m \u001b[0mG_h\u001b[0m \u001b[0;34m=\u001b[0m \u001b[0m_h\u001b[0m\u001b[0;34m(\u001b[0m\u001b[0mW\u001b[0m\u001b[0;34m)\u001b[0m\u001b[0;34m\u001b[0m\u001b[0;34m\u001b[0m\u001b[0m\n\u001b[0m\u001b[1;32m     60\u001b[0m         \u001b[0mobj\u001b[0m \u001b[0;34m=\u001b[0m \u001b[0mloss\u001b[0m \u001b[0;34m+\u001b[0m \u001b[0;36m0.5\u001b[0m \u001b[0;34m*\u001b[0m \u001b[0mrho\u001b[0m \u001b[0;34m*\u001b[0m \u001b[0mh\u001b[0m \u001b[0;34m*\u001b[0m \u001b[0mh\u001b[0m \u001b[0;34m+\u001b[0m \u001b[0malpha\u001b[0m \u001b[0;34m*\u001b[0m \u001b[0mh\u001b[0m \u001b[0;34m+\u001b[0m \u001b[0mlambda1\u001b[0m \u001b[0;34m*\u001b[0m \u001b[0mw\u001b[0m\u001b[0;34m.\u001b[0m\u001b[0msum\u001b[0m\u001b[0;34m(\u001b[0m\u001b[0;34m)\u001b[0m\u001b[0;34m\u001b[0m\u001b[0;34m\u001b[0m\u001b[0m\n\u001b[1;32m     61\u001b[0m         \u001b[0mG_smooth\u001b[0m \u001b[0;34m=\u001b[0m \u001b[0mG_loss\u001b[0m \u001b[0;34m+\u001b[0m \u001b[0;34m(\u001b[0m\u001b[0mrho\u001b[0m \u001b[0;34m*\u001b[0m \u001b[0mh\u001b[0m \u001b[0;34m+\u001b[0m \u001b[0malpha\u001b[0m\u001b[0;34m)\u001b[0m \u001b[0;34m*\u001b[0m \u001b[0mG_h\u001b[0m\u001b[0;34m\u001b[0m\u001b[0;34m\u001b[0m\u001b[0m\n",
            "\u001b[0;32m<ipython-input-167-3b2e4e31df29>\u001b[0m in \u001b[0;36m_h\u001b[0;34m(W)\u001b[0m\n\u001b[1;32m     40\u001b[0m     \u001b[0;32mdef\u001b[0m \u001b[0m_h\u001b[0m\u001b[0;34m(\u001b[0m\u001b[0mW\u001b[0m\u001b[0;34m)\u001b[0m\u001b[0;34m:\u001b[0m\u001b[0;34m\u001b[0m\u001b[0;34m\u001b[0m\u001b[0m\n\u001b[1;32m     41\u001b[0m         \u001b[0;34m\"\"\"Evaluate value and gradient of acyclicity constraint.\"\"\"\u001b[0m\u001b[0;34m\u001b[0m\u001b[0;34m\u001b[0m\u001b[0m\n\u001b[0;32m---> 42\u001b[0;31m         \u001b[0mE\u001b[0m \u001b[0;34m=\u001b[0m \u001b[0mslin\u001b[0m\u001b[0;34m.\u001b[0m\u001b[0mexpm\u001b[0m\u001b[0;34m(\u001b[0m\u001b[0mW\u001b[0m \u001b[0;34m*\u001b[0m \u001b[0mW\u001b[0m\u001b[0;34m)\u001b[0m  \u001b[0;31m# (Zheng et al. 2018)\u001b[0m\u001b[0;34m\u001b[0m\u001b[0;34m\u001b[0m\u001b[0m\n\u001b[0m\u001b[1;32m     43\u001b[0m         \u001b[0mh\u001b[0m \u001b[0;34m=\u001b[0m \u001b[0mnp\u001b[0m\u001b[0;34m.\u001b[0m\u001b[0mtrace\u001b[0m\u001b[0;34m(\u001b[0m\u001b[0mE\u001b[0m\u001b[0;34m)\u001b[0m \u001b[0;34m-\u001b[0m \u001b[0md\u001b[0m\u001b[0;34m\u001b[0m\u001b[0;34m\u001b[0m\u001b[0m\n\u001b[1;32m     44\u001b[0m         \u001b[0;31m#     # A different formulation, slightly faster at the cost of numerical stability\u001b[0m\u001b[0;34m\u001b[0m\u001b[0;34m\u001b[0m\u001b[0m\n",
            "\u001b[0;32m/usr/local/lib/python3.10/dist-packages/scipy/linalg/_matfuncs.py\u001b[0m in \u001b[0;36mexpm\u001b[0;34m(A)\u001b[0m\n\u001b[1;32m    329\u001b[0m             \u001b[0mAm\u001b[0m\u001b[0;34m[\u001b[0m\u001b[0;34m:\u001b[0m\u001b[0;36m4\u001b[0m\u001b[0;34m]\u001b[0m \u001b[0;34m*=\u001b[0m \u001b[0;34m[\u001b[0m\u001b[0;34m[\u001b[0m\u001b[0;34m[\u001b[0m\u001b[0;36m2\u001b[0m\u001b[0;34m**\u001b[0m\u001b[0;34m(\u001b[0m\u001b[0;34m-\u001b[0m\u001b[0ms\u001b[0m\u001b[0;34m)\u001b[0m\u001b[0;34m]\u001b[0m\u001b[0;34m]\u001b[0m\u001b[0;34m,\u001b[0m \u001b[0;34m[\u001b[0m\u001b[0;34m[\u001b[0m\u001b[0;36m4\u001b[0m\u001b[0;34m**\u001b[0m\u001b[0;34m(\u001b[0m\u001b[0;34m-\u001b[0m\u001b[0ms\u001b[0m\u001b[0;34m)\u001b[0m\u001b[0;34m]\u001b[0m\u001b[0;34m]\u001b[0m\u001b[0;34m,\u001b[0m \u001b[0;34m[\u001b[0m\u001b[0;34m[\u001b[0m\u001b[0;36m16\u001b[0m\u001b[0;34m**\u001b[0m\u001b[0;34m(\u001b[0m\u001b[0;34m-\u001b[0m\u001b[0ms\u001b[0m\u001b[0;34m)\u001b[0m\u001b[0;34m]\u001b[0m\u001b[0;34m]\u001b[0m\u001b[0;34m,\u001b[0m \u001b[0;34m[\u001b[0m\u001b[0;34m[\u001b[0m\u001b[0;36m64\u001b[0m\u001b[0;34m**\u001b[0m\u001b[0;34m(\u001b[0m\u001b[0;34m-\u001b[0m\u001b[0ms\u001b[0m\u001b[0;34m)\u001b[0m\u001b[0;34m]\u001b[0m\u001b[0;34m]\u001b[0m\u001b[0;34m]\u001b[0m\u001b[0;34m\u001b[0m\u001b[0;34m\u001b[0m\u001b[0m\n\u001b[1;32m    330\u001b[0m \u001b[0;34m\u001b[0m\u001b[0m\n\u001b[0;32m--> 331\u001b[0;31m         \u001b[0mpade_UV_calc\u001b[0m\u001b[0;34m(\u001b[0m\u001b[0mAm\u001b[0m\u001b[0;34m,\u001b[0m \u001b[0mn\u001b[0m\u001b[0;34m,\u001b[0m \u001b[0mm\u001b[0m\u001b[0;34m)\u001b[0m\u001b[0;34m\u001b[0m\u001b[0;34m\u001b[0m\u001b[0m\n\u001b[0m\u001b[1;32m    332\u001b[0m         \u001b[0meAw\u001b[0m \u001b[0;34m=\u001b[0m \u001b[0mAm\u001b[0m\u001b[0;34m[\u001b[0m\u001b[0;36m0\u001b[0m\u001b[0;34m]\u001b[0m\u001b[0;34m\u001b[0m\u001b[0;34m\u001b[0m\u001b[0m\n\u001b[1;32m    333\u001b[0m \u001b[0;34m\u001b[0m\u001b[0m\n",
            "\u001b[0;31mKeyboardInterrupt\u001b[0m: "
          ]
        }
      ]
    },
    {
      "cell_type": "code",
      "source": [
        "for i in range(5):\n",
        "  print(results[:, i].mean())"
      ],
      "metadata": {
        "colab": {
          "base_uri": "https://localhost:8080/"
        },
        "id": "GTjMPAE16ILX",
        "outputId": "96f45cba-802b-476a-8350-a10abf436244"
      },
      "execution_count": null,
      "outputs": [
        {
          "output_type": "stream",
          "name": "stdout",
          "text": [
            "0.9025000000000001\n",
            "7.7\n",
            "0.0\n",
            "0.1\n",
            "0.0\n"
          ]
        }
      ]
    }
  ]
}